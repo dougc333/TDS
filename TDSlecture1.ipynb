{
 "cells": [
  {
   "cell_type": "code",
   "execution_count": 1,
   "metadata": {},
   "outputs": [],
   "source": [
    "import numpy as np\n",
    "from numpy.random import random, randn\n",
    "from matplotlib import pyplot as plt, animation, rcParams, rc\n",
    "def linear_function(alpha, beta, x):\n",
    "    return alpha+beta*x\n",
    "rc('animation',html='html5')\n",
    "rcParams['figure.figsize'] = 3,3"
   ]
  },
  {
   "cell_type": "markdown",
   "metadata": {},
   "source": [
    "<p>Square error is square of difference between predicted and actual data values</p>\n",
    "Define predicted: ${\\hat y} $ and actual:${y}$ \n",
    "<p>Loss is:</p>\n",
    "$({\\hat y}-{y})^2$\n",
    "<p>Previous definition y as linear_function</p>\n",
    "${\\hat y=\\alpha + \\beta x}$\n",
    "<p>To minmize the Loss we take the derivative of the loss wrt alpha and beta. </p>\n",
    "$\\cfrac{\\partial(loss)}{\\partial \\alpha}=\\cfrac{(\\hat y - y)^2}{\\partial \\alpha}=\\cfrac{2*(\\hat y-y)*\\partial(\\hat y - y)}{\\partial \\alpha}$\n",
    "<p>Using:</p>\n",
    "$\\cfrac{\\partial \\hat y}{\\partial \\alpha}=1$ \n",
    "<p>and</p>\n",
    "$\\cfrac{\\partial y}{\\partial \\alpha}=0$\n",
    "<p>the derivative of loss wrt alpha for y-hat is:</p>\n",
    "$\\cfrac{\\partial (loss)}{\\partial \\alpha}=2(\\hat y-y)$\n",
    "<p>The derivative of loss WRT beta starts as:</p>  \n",
    "$\\cfrac{\\partial(loss)}{\\partial \\beta}=\\cfrac{(\\hat y - y)^2}{\\partial \\beta}=\\cfrac{2*(\\hat y-y)}{\\partial \\beta}*\\cfrac{\\partial(\\hat y -y)}{\\partial \\beta}$\n",
    "<p></p>\n",
    "$\\cfrac{\\partial \\hat y}{\\partial \\beta}=x$ and\n",
    "$\\cfrac{\\partial y}{\\partial \\beta}=0$\n",
    "<p>the derivative of loss wrt beta for y-hat is:</p>\n",
    "$\\cfrac{\\partial (loss)}{\\partial \\beta}=2x*(\\hat y-y)$\n"
   ]
  },
  {
   "cell_type": "code",
   "execution_count": 2,
   "metadata": {},
   "outputs": [],
   "source": [
    "beta_true = 6.0\n",
    "alpha_true = 3.0\n",
    "n=30\n",
    "x=random(n)\n",
    "y = linear_function(alpha_true,beta_true,x) + 0.2*randn(n)\n",
    "beta=-1.\n",
    "alpha = 3.\n",
    "learning_rate = 0.01\n"
   ]
  },
  {
   "cell_type": "code",
   "execution_count": 3,
   "metadata": {},
   "outputs": [],
   "source": [
    "def update_alpha_and_beta():\n",
    "    global alpha, beta\n",
    "    y_predicted = linear_function(alpha,beta,x)\n",
    "    der_loss_wrt_alpha = 2*(y_predicted-y)\n",
    "    der_loss_wrt_beta = x * der_loss_wrt_alpha\n",
    "    alpha = alpha - learning_rate * der_loss_wrt_alpha.mean()\n",
    "    beta = beta - learning_rate * der_loss_wrt_beta.mean()\n",
    "def animate(i):\n",
    "    x = np.linspace(0,1000)\n",
    "    y = linear_function(alpha,beta,x)\n",
    "    line.set_data(x)\n",
    "    for i in range(20):\n",
    "        update_alpha_and_beta()\n",
    "    return (line,)\n"
   ]
  },
  {
   "cell_type": "code",
   "execution_count": 5,
   "metadata": {},
   "outputs": [
    {
     "data": {
      "image/png": "[encoded data removed]",
      "text/plain": [
       "<Figure size 560x560 with 1 Axes>"
      ]
     },
     "metadata": {
      "needs_background": "light"
     },
     "output_type": "display_data"
    }
   ],
   "source": [
    "fig=plt.figure(dpi=80,figsize=(7,7))\n",
    "ax = fig.add_subplot(111)\n",
    "ax.set_xlim((0,1))\n",
    "ax.set_ylim((-2,15))\n",
    "plt.scatter(x,y)\n",
    "line,=ax.plot([],[],lw=2)\n"
   ]
  },
  {
   "cell_type": "code",
   "execution_count": 7,
   "metadata": {},
   "outputs": [
    {
     "ename": "ModuleNotFoundError",
     "evalue": "No module named 'pytorch'",
     "output_type": "error",
     "traceback": [
      "\u001b[0;31m---------------------------------------------------------------------------\u001b[0m",
      "\u001b[0;31mModuleNotFoundError\u001b[0m                       Traceback (most recent call last)",
      "\u001b[0;32m<ipython-input-7-d35c46f8d1a2>\u001b[0m in \u001b[0;36m<module>\u001b[0;34m\u001b[0m\n\u001b[0;32m----> 1\u001b[0;31m \u001b[0;32mimport\u001b[0m \u001b[0mpytorch\u001b[0m\u001b[0;34m\u001b[0m\u001b[0;34m\u001b[0m\u001b[0m\n\u001b[0m",
      "\u001b[0;31mModuleNotFoundError\u001b[0m: No module named 'pytorch'"
     ]
    }
   ],
   "source": [
    "import pytorch"
   ]
  },
  {
   "cell_type": "code",
   "execution_count": null,
   "metadata": {},
   "outputs": [],
   "source": []
  }
 ],
 "metadata": {
  "kernelspec": {
   "display_name": "Python 3",
   "language": "python",
   "name": "python3"
  },
  "language_info": {
   "codemirror_mode": {
    "name": "ipython",
    "version": 3
   },
   "file_extension": ".py",
   "mimetype": "text/x-python",
   "name": "python",
   "nbconvert_exporter": "python",
   "pygments_lexer": "ipython3",
   "version": "3.6.8"
  }
 },
 "nbformat": 4,
 "nbformat_minor": 2
}
