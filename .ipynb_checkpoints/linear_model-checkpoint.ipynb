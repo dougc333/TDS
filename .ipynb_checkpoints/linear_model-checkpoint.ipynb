{
 "cells": [
  {
   "cell_type": "code",
   "execution_count": null,
   "metadata": {},
   "outputs": [],
   "source": [
    "# Notebook adapted from Jeremy P. Howard"
   ]
  },
  {
   "cell_type": "code",
   "execution_count": null,
   "metadata": {},
   "outputs": [],
   "source": [
    "import numpy as np\n",
    "from numpy.random import random, randn\n",
    "from matplotlib import pyplot as plt, animation, rcParams, rc\n"
   ]
  },
  {
   "cell_type": "code",
   "execution_count": null,
   "metadata": {},
   "outputs": [],
   "source": [
    "def linear_function(alpha,beta,x): return alpha+beta*x\n",
    "rc('animation',html='html5')\n",
    "rcParams['figure.figsize'] = 3, 3\n",
    "\n",
    "beta_true = 6.0\n",
    "alpha_true = 3.0\n",
    "n = 30\n",
    "x = random(n)\n",
    "y = linear_function(alpha_true,beta_true,x)+0.2*randn(n)\n",
    "beta = -1.\n",
    "alpha = 3.\n",
    "learning_rate = 0.01"
   ]
  },
  {
   "cell_type": "markdown",
   "metadata": {},
   "source": [
    "<p>Square error is square of difference between predicted and actual data values</p>\n",
    "Define predicted: ${\\hat y} $ and actual:${y}$ \n",
    "<p>Loss is:</p>\n",
    "$({\\hat y}-{y})^2$\n",
    "<p>Previous definition y as linear_function</p>\n",
    "${\\hat y=\\alpha + \\beta x}$\n",
    "<p>To minmize the Loss we take the derivative of the loss wrt alpha and beta, not x. x and y are datapoints\n",
    "which is our dataset we are trying to fit to. The derivative of y is the sum of the partial derivatives of the dependent variables\n",
    "which in this case are alpha and beta. </p>\n",
    "<p></p>\n",
    "$derivative(loss)=\\cfrac{\\partial(loss)}{\\partial \\alpha} + \\cfrac{\\partial(loss)}{\\partial \\beta}$\n",
    "<p></p>\n",
    "$\\cfrac{\\partial(loss)}{\\partial \\alpha}=\\cfrac{(\\hat y - y)^2}{\\partial \\alpha}=\\cfrac{2*(\\hat y-y)*\\partial(\\hat y - y)}{\\partial \\alpha}$\n",
    "<p>Using:</p>\n",
    "$\\cfrac{\\partial \\hat y}{\\partial \\alpha}=1$ \n",
    "<p>and</p>\n",
    "$\\cfrac{\\partial y}{\\partial \\alpha}=0$\n",
    "<p>the derivative of loss wrt alpha for y-hat is:</p>\n",
    "$\\cfrac{\\partial (loss)}{\\partial \\alpha}=2(\\hat y-y)$\n",
    "<p>The derivative of loss WRT beta starts as:</p>  \n",
    "$\\cfrac{\\partial(loss)}{\\partial \\beta}=\\cfrac{(\\hat y - y)^2}{\\partial \\beta}=\\cfrac{2*(\\hat y-y)}{\\partial \\beta}*\\cfrac{\\partial(\\hat y -y)}{\\partial \\beta}$\n",
    "<p></p>\n",
    "$\\cfrac{\\partial \\hat y}{\\partial \\beta}=x$ and\n",
    "$\\cfrac{\\partial y}{\\partial \\beta}=0$\n",
    "<p>the derivative of loss wrt beta for y-hat is:</p>\n",
    "$\\cfrac{\\partial (loss)}{\\partial \\beta}=2x*(\\hat y-y)$\n"
   ]
  },
  {
   "cell_type": "code",
   "execution_count": null,
   "metadata": {},
   "outputs": [],
   "source": [
    "def update_alpha_and_beta():\n",
    "    global alpha, beta\n",
    "    y_predicted = linear_function(alpha,beta,x)\n",
    "    derivative_of_loss_wrt_alpha = 2*(y_predicted-y)\n",
    "    derivative_of_loss_wrt_beta = x* derivative_of_loss_wrt_alpha\n",
    "    alpha = alpha - learning_rate*derivative_of_loss_wrt_alpha.mean()\n",
    "    beta = beta - learning_rate*derivative_of_loss_wrt_beta.mean()\n",
    "def animate(i):\n",
    "    x = np.linspace(0,1,100)\n",
    "    y = linear_function(alpha,beta,x)\n",
    "    line.set_data(x,y)\n",
    "    for i in range(20): \n",
    "        update_alpha_and_beta()\n",
    "    return (line,)"
   ]
  },
  {
   "cell_type": "code",
   "execution_count": null,
   "metadata": {
    "scrolled": true
   },
   "outputs": [],
   "source": [
    "fig = plt.figure(dpi=80,figsize=(7,7))\n",
    "ax = fig.add_subplot(111)\n",
    "ax.set_xlim((0,1))\n",
    "ax.set_ylim((-2,15))\n",
    "plt.scatter(x,y)\n",
    "line, = ax.plot([],[],lw=2)"
   ]
  },
  {
   "cell_type": "code",
   "execution_count": null,
   "metadata": {},
   "outputs": [],
   "source": [
    "resulting_animation = animation.FuncAnimation(fig,animate,np.arange(0,250),interval=100)"
   ]
  },
  {
   "cell_type": "code",
   "execution_count": null,
   "metadata": {},
   "outputs": [],
   "source": [
    "# Comment out (or delete) the following command, which shows the animation in Jupyter Notebook, \n",
    "# if you want the mp4 saved to disk to be correctly animated. \n",
    "# (Alternatively, you can reset the values of alpha and beta to their initial values \n",
    "# after this command.)\n",
    "\n",
    "resulting_animation"
   ]
  },
  {
   "cell_type": "code",
   "execution_count": null,
   "metadata": {},
   "outputs": [],
   "source": [
    "Writer = animation.writers['ffmpeg']\n",
    "writer = Writer(fps=15, metadata=dict(artist='Me'), bitrate=1800)\n",
    "resulting_animation.save('linear_animation.mp4', writer=writer)"
   ]
  },
  {
   "cell_type": "code",
   "execution_count": null,
   "metadata": {},
   "outputs": [],
   "source": [
    "print('Done linear animation')"
   ]
  },
  {
   "cell_type": "markdown",
   "metadata": {},
   "source": [
    "$y=\\gamma x^2 + \\beta x + \\alpha$\n",
    "<p></p>\n",
    "$\\cfrac{\\partial(loss)}{\\partial \\gamma}=2x^2(\\hat y-y)$\n",
    "$\\cfrac{\\partial(loss)}{\\partial \\beta}=2x(\\hat y -y)$\n",
    "$\\cfrac{\\partial(loss)}{\\partial \\alpha}=2(\\hat y-y)$\n"
   ]
  },
  {
   "cell_type": "markdown",
   "metadata": {},
   "source": [
    "<h6>Squared Function</h6>"
   ]
  },
  {
   "cell_type": "code",
   "execution_count": null,
   "metadata": {},
   "outputs": [],
   "source": [
    "#It doesnt make sense to use a quadratic to approximate a linear function,so change the dataset to \n",
    "#be quadratic\n",
    "def square_function(gamma, beta, alpha,x):\n",
    "    return gamma*x**2 + beta*x + alpha\n",
    "\n",
    "beta_true = 2.0\n",
    "alpha_true = 2.0\n",
    "gamma_true = 10.0\n",
    "\n",
    "n = 300\n",
    "x = random(n)\n",
    "y = square_function(gamma_true,beta_true,alpha_true,x)+0.2*randn(n)\n",
    "beta = -1.\n",
    "alpha = 3.\n",
    "gamma = 2.\n",
    "learning_rate = 0.01"
   ]
  },
  {
   "cell_type": "code",
   "execution_count": null,
   "metadata": {},
   "outputs": [],
   "source": [
    "def update_squared():\n",
    "    global gamma, alpha, beta\n",
    "    y_predicted = square_function(gamma,beta,alpha,x)\n",
    "    derivative_of_loss_wrt_gamma = 2*x**2*(y_predicted-y)\n",
    "    derivative_of_loss_wrt_alpha = 2*(y_predicted-y)\n",
    "    derivative_of_loss_wrt_beta = x* derivative_of_loss_wrt_alpha\n",
    "    alpha = alpha - learning_rate*derivative_of_loss_wrt_alpha.mean()\n",
    "    beta = beta - learning_rate*derivative_of_loss_wrt_beta.mean()\n",
    "    gamma = gamma - learning_rate * derivative_of_loss_wrt_gamma.mean()\n",
    "\n",
    "def animate(i):\n",
    "    x = np.linspace(0,1,100)\n",
    "    y = square_function(gamma,beta,alpha,x)\n",
    "    line.set_data(x,y)\n",
    "    for i in range(20): \n",
    "        update_squared()\n",
    "    return (line,)"
   ]
  },
  {
   "cell_type": "code",
   "execution_count": null,
   "metadata": {},
   "outputs": [],
   "source": [
    "fig = plt.figure(dpi=80,figsize=(7,7))\n",
    "ax = fig.add_subplot(111)\n",
    "ax.set_xlim((0,1))\n",
    "ax.set_ylim((-2,15))\n",
    "plt.scatter(x,y)\n",
    "line, = ax.plot([],[],lw=2)"
   ]
  },
  {
   "cell_type": "code",
   "execution_count": null,
   "metadata": {},
   "outputs": [],
   "source": [
    "resulting_animation = animation.FuncAnimation(fig,animate,np.arange(0,250),interval=100)"
   ]
  },
  {
   "cell_type": "code",
   "execution_count": null,
   "metadata": {},
   "outputs": [],
   "source": [
    "%matplotlib inline\n",
    "resulting_animation"
   ]
  },
  {
   "cell_type": "code",
   "execution_count": null,
   "metadata": {},
   "outputs": [],
   "source": [
    "Writer = animation.writers['ffmpeg']\n",
    "writer = Writer(fps=15, metadata=dict(artist='Me'), bitrate=1800)\n",
    "resulting_animation.save('squared_animation.mp4', writer=writer)"
   ]
  },
  {
   "cell_type": "code",
   "execution_count": null,
   "metadata": {},
   "outputs": [],
   "source": [
    "print('Done squared animation')"
   ]
  },
  {
   "cell_type": "markdown",
   "metadata": {},
   "source": [
    "<h6>SGD</h6>"
   ]
  },
  {
   "cell_type": "code",
   "execution_count": 6,
   "metadata": {},
   "outputs": [],
   "source": [
    "import numpy as np\n",
    "from numpy.random import random, randn\n",
    "from matplotlib import pyplot as plt, animation, rcParams, rc\n",
    "\n",
    "\n",
    "def linear_function(alpha,beta,x): return alpha+beta*x\n",
    "beta_true = 6.0\n",
    "alpha_true = 3.0\n",
    "n = 30\n",
    "x_data = random(n)\n",
    "y_data = linear_function(alpha_true,beta_true,x_data)+0.2*randn(n)\n",
    "beta = -1.\n",
    "alpha = 3.\n",
    "learning_rate = 0.1\n",
    "num_iters=10"
   ]
  },
  {
   "cell_type": "code",
   "execution_count": 7,
   "metadata": {},
   "outputs": [
    {
     "name": "stdout",
     "output_type": "stream",
     "text": [
      "[0.89651284 0.68983679 0.86404787 0.5808972  0.10565706 0.82049396\n",
      " 0.65702753 0.07364167 0.38395776 0.41543906 0.77656385 0.94117423\n",
      " 0.13783997 0.11729716 0.21603972 0.06938033 0.73940375 0.08267635\n",
      " 0.82860302 0.1719493  0.34090574 0.14121324 0.02118051 0.62581458\n",
      " 0.79971078 0.15539485 0.62473423 0.16403519 0.80296291 0.37942547]\n",
      "-----\n",
      "[8.01360467 7.05360054 8.38301972 6.51367984 3.80502867 8.08120816\n",
      " 6.8243162  3.68803357 5.2804276  5.42636923 7.78311236 8.36017851\n",
      " 3.73928225 3.65319919 4.25523113 3.41440187 7.58758027 3.32019368\n",
      " 7.94675092 3.76048755 5.1268488  3.75035749 3.23523185 6.7294111\n",
      " 8.0299383  3.70208179 6.68194658 4.05417557 7.60501804 5.45686954]\n"
     ]
    }
   ],
   "source": [
    "print(x_data)\n",
    "print(\"-----\")\n",
    "print(y_data)"
   ]
  },
  {
   "cell_type": "code",
   "execution_count": 2,
   "metadata": {},
   "outputs": [],
   "source": [
    "#SGD requires a batch size of 1 \n",
    "def update_alpha_and_beta():\n",
    "    global alpha, beta\n",
    "    for i in range(n):\n",
    "        print(\"i:\",i)\n",
    "        y_predicted_batch = linear_function(alpha,beta,x_data[i])\n",
    "        derivative_of_loss_wrt_alpha = 2*(y_predicted_batch-y_data[i])\n",
    "        derivative_of_loss_wrt_beta = x_data[i]* derivative_of_loss_wrt_alpha\n",
    "        print(\"before iters\",\"alpha:\",alpha,\"beta:\",beta)\n",
    "        for _ in range(num_iters):\n",
    "            #print(\"y_predicted_batch:\",y_predicted_batch)\n",
    "            #print(\"x_batch:\",x_batch,\"y_batch:\",y_batch)\n",
    "            #print(\"learning_rate:\",learning_rate)\n",
    "            #print(\"2*learning_rate*(y_predicted_batch-y_batch)\",2*learning_rate*(y_predicted_batch-y_batch))\n",
    "            #print(\"2*x_batch*(y_predicted_batch-y_batch)\",2*x_batch*(y_predicted_batch-y_batch))\n",
    "            alpha = alpha - 2*learning_rate*(y_predicted_batch-y_data[i])\n",
    "            beta = beta - learning_rate*2*x_data[i]*(y_predicted_batch-y_data[i])\n",
    "            y_predicted_batch = linear_function(alpha,beta,x_data[i])\n",
    "        print(\"after iters\",\"alpha:\",alpha,\"beta:\",beta)\n",
    "def animate():\n",
    "    x = np.linspace(0,1,100)\n",
    "    y = linear_function(alpha,beta,x)\n",
    "    line.set_data(x,y)\n",
    "    #for _ in range(20):\n",
    "    update_alpha_and_beta()\n",
    "    return (line,)"
   ]
  },
  {
   "cell_type": "code",
   "execution_count": 5,
   "metadata": {
    "scrolled": false
   },
   "outputs": [
    {
     "data": {
      "image/png": "[encoded data removed]",
      "text/plain": [
       "<Figure size 560x560 with 1 Axes>"
      ]
     },
     "metadata": {
      "needs_background": "light"
     },
     "output_type": "display_data"
    }
   ],
   "source": [
    "fig = plt.figure(dpi=80,figsize=(7,7))\n",
    "ax = fig.add_subplot(111)\n",
    "ax.set_xlim((0,1))\n",
    "ax.set_ylim((-2,15))\n",
    "plt.scatter(x_data,y_data)\n",
    "line, = ax.plot([],[],lw=2)"
   ]
  },
  {
   "cell_type": "code",
   "execution_count": 4,
   "metadata": {
    "scrolled": false
   },
   "outputs": [
    {
     "name": "stdout",
     "output_type": "stream",
     "text": [
      "i: 0\n",
      "before iters alpha: 3.0 beta: -1.0\n",
      "after iters alpha: 5.742815231555843 beta: 0.5304974531877359\n",
      "i: 0\n",
      "before iters alpha: 5.742815231555843 beta: 0.5304974531877359\n",
      "after iters alpha: 5.87377906376032 beta: 0.6035755844969898\n",
      "i: 0\n",
      "before iters alpha: 5.87377906376032 beta: 0.6035755844969898\n",
      "after iters alpha: 5.880032319593362 beta: 0.6070649161940338\n",
      "i: 0\n",
      "before iters alpha: 5.880032319593362 beta: 0.6070649161940338\n",
      "after iters alpha: 5.8803308998032975 beta: 0.6072315246646375\n",
      "i: 0\n",
      "before iters alpha: 5.8803308998032975 beta: 0.6072315246646375\n",
      "after iters alpha: 5.880345156399244 beta: 0.6072394798792422\n",
      "i: 0\n",
      "before iters alpha: 5.880345156399244 beta: 0.6072394798792422\n",
      "after iters alpha: 5.880345837122618 beta: 0.6072398597245118\n",
      "i: 0\n",
      "before iters alpha: 5.880345837122618 beta: 0.6072398597245118\n",
      "after iters alpha: 5.88034586962577 beta: 0.6072398778613491\n",
      "i: 0\n",
      "before iters alpha: 5.88034586962577 beta: 0.6072398778613491\n",
      "after iters alpha: 5.88034587117773 beta: 0.6072398787273461\n",
      "i: 0\n",
      "before iters alpha: 5.88034587117773 beta: 0.6072398787273461\n",
      "after iters alpha: 5.880345871251832 beta: 0.6072398787686958\n",
      "i: 0\n",
      "before iters alpha: 5.880345871251832 beta: 0.6072398787686958\n",
      "after iters alpha: 5.88034587125537 beta: 0.6072398787706702\n",
      "i: 0\n",
      "before iters alpha: 5.88034587125537 beta: 0.6072398787706702\n",
      "after iters alpha: 5.880345871255539 beta: 0.6072398787707647\n",
      "i: 0\n",
      "before iters alpha: 5.880345871255539 beta: 0.6072398787707647\n",
      "after iters alpha: 5.880345871255547 beta: 0.6072398787707691\n",
      "i: 0\n",
      "before iters alpha: 5.880345871255547 beta: 0.6072398787707691\n",
      "after iters alpha: 5.880345871255547 beta: 0.60723987877077\n",
      "i: 0\n",
      "before iters alpha: 5.880345871255547 beta: 0.60723987877077\n",
      "after iters alpha: 5.880345871255547 beta: 0.60723987877077\n",
      "i: 0\n",
      "before iters alpha: 5.880345871255547 beta: 0.60723987877077\n",
      "after iters alpha: 5.880345871255547 beta: 0.60723987877077\n",
      "i: 0\n",
      "before iters alpha: 5.880345871255547 beta: 0.60723987877077\n",
      "after iters alpha: 5.880345871255547 beta: 0.60723987877077\n",
      "i: 0\n",
      "before iters alpha: 5.880345871255547 beta: 0.60723987877077\n",
      "after iters alpha: 5.880345871255547 beta: 0.60723987877077\n",
      "i: 0\n",
      "before iters alpha: 5.880345871255547 beta: 0.60723987877077\n",
      "after iters alpha: 5.880345871255547 beta: 0.60723987877077\n",
      "i: 0\n",
      "before iters alpha: 5.880345871255547 beta: 0.60723987877077\n",
      "after iters alpha: 5.880345871255547 beta: 0.60723987877077\n",
      "i: 0\n",
      "before iters alpha: 5.880345871255547 beta: 0.60723987877077\n",
      "after iters alpha: 5.880345871255547 beta: 0.60723987877077\n",
      "i: 0\n",
      "before iters alpha: 5.880345871255547 beta: 0.60723987877077\n",
      "after iters alpha: 5.880345871255547 beta: 0.60723987877077\n",
      "i: 0\n",
      "before iters alpha: 5.880345871255547 beta: 0.60723987877077\n",
      "after iters alpha: 5.880345871255547 beta: 0.60723987877077\n",
      "i: 0\n",
      "before iters alpha: 5.880345871255547 beta: 0.60723987877077\n",
      "after iters alpha: 5.880345871255547 beta: 0.60723987877077\n",
      "i: 0\n",
      "before iters alpha: 5.880345871255547 beta: 0.60723987877077\n",
      "after iters alpha: 5.880345871255547 beta: 0.60723987877077\n",
      "i: 0\n",
      "before iters alpha: 5.880345871255547 beta: 0.60723987877077\n",
      "after iters alpha: 5.880345871255547 beta: 0.60723987877077\n",
      "i: 0\n",
      "before iters alpha: 5.880345871255547 beta: 0.60723987877077\n",
      "after iters alpha: 5.880345871255547 beta: 0.60723987877077\n",
      "i: 0\n",
      "before iters alpha: 5.880345871255547 beta: 0.60723987877077\n",
      "after iters alpha: 5.880345871255547 beta: 0.60723987877077\n",
      "i: 0\n",
      "before iters alpha: 5.880345871255547 beta: 0.60723987877077\n",
      "after iters alpha: 5.880345871255547 beta: 0.60723987877077\n",
      "i: 0\n",
      "before iters alpha: 5.880345871255547 beta: 0.60723987877077\n",
      "after iters alpha: 5.880345871255547 beta: 0.60723987877077\n",
      "i: 0\n",
      "before iters alpha: 5.880345871255547 beta: 0.60723987877077\n",
      "after iters alpha: 5.880345871255547 beta: 0.60723987877077\n",
      "i: 0\n",
      "before iters alpha: 5.880345871255547 beta: 0.60723987877077\n",
      "after iters alpha: 5.880345871255547 beta: 0.60723987877077\n",
      "i: 0\n",
      "before iters alpha: 5.880345871255547 beta: 0.60723987877077\n",
      "after iters alpha: 5.880345871255547 beta: 0.60723987877077\n",
      "i: 0\n",
      "before iters alpha: 5.880345871255547 beta: 0.60723987877077\n",
      "after iters alpha: 5.880345871255547 beta: 0.60723987877077\n",
      "i: 0\n",
      "before iters alpha: 5.880345871255547 beta: 0.60723987877077\n",
      "after iters alpha: 5.880345871255547 beta: 0.60723987877077\n",
      "i: 0\n",
      "before iters alpha: 5.880345871255547 beta: 0.60723987877077\n",
      "after iters alpha: 5.880345871255547 beta: 0.60723987877077\n",
      "i: 0\n",
      "before iters alpha: 5.880345871255547 beta: 0.60723987877077\n",
      "after iters alpha: 5.880345871255547 beta: 0.60723987877077\n",
      "i: 0\n",
      "before iters alpha: 5.880345871255547 beta: 0.60723987877077\n",
      "after iters alpha: 5.880345871255547 beta: 0.60723987877077\n",
      "i: 0\n",
      "before iters alpha: 5.880345871255547 beta: 0.60723987877077\n",
      "after iters alpha: 5.880345871255547 beta: 0.60723987877077\n",
      "i: 0\n",
      "before iters alpha: 5.880345871255547 beta: 0.60723987877077\n",
      "after iters alpha: 5.880345871255547 beta: 0.60723987877077\n",
      "i: 0\n",
      "before iters alpha: 5.880345871255547 beta: 0.60723987877077\n",
      "after iters alpha: 5.880345871255547 beta: 0.60723987877077\n",
      "i: 0\n",
      "before iters alpha: 5.880345871255547 beta: 0.60723987877077\n",
      "after iters alpha: 5.880345871255547 beta: 0.60723987877077\n",
      "i: 0\n",
      "before iters alpha: 5.880345871255547 beta: 0.60723987877077\n",
      "after iters alpha: 5.880345871255547 beta: 0.60723987877077\n",
      "i: 0\n",
      "before iters alpha: 5.880345871255547 beta: 0.60723987877077\n",
      "after iters alpha: 5.880345871255547 beta: 0.60723987877077\n",
      "i: 0\n",
      "before iters alpha: 5.880345871255547 beta: 0.60723987877077\n",
      "after iters alpha: 5.880345871255547 beta: 0.60723987877077\n",
      "i: 0\n",
      "before iters alpha: 5.880345871255547 beta: 0.60723987877077\n",
      "after iters alpha: 5.880345871255547 beta: 0.60723987877077\n",
      "i: 0\n",
      "before iters alpha: 5.880345871255547 beta: 0.60723987877077\n",
      "after iters alpha: 5.880345871255547 beta: 0.60723987877077\n",
      "i: 0\n",
      "before iters alpha: 5.880345871255547 beta: 0.60723987877077\n",
      "after iters alpha: 5.880345871255547 beta: 0.60723987877077\n",
      "i: 0\n",
      "before iters alpha: 5.880345871255547 beta: 0.60723987877077\n",
      "after iters alpha: 5.880345871255547 beta: 0.60723987877077\n",
      "i: 0\n",
      "before iters alpha: 5.880345871255547 beta: 0.60723987877077\n",
      "after iters alpha: 5.880345871255547 beta: 0.60723987877077\n",
      "i: 0\n",
      "before iters alpha: 5.880345871255547 beta: 0.60723987877077\n",
      "after iters alpha: 5.880345871255547 beta: 0.60723987877077\n",
      "i: 0\n",
      "before iters alpha: 5.880345871255547 beta: 0.60723987877077\n",
      "after iters alpha: 5.880345871255547 beta: 0.60723987877077\n",
      "i: 0\n",
      "before iters alpha: 5.880345871255547 beta: 0.60723987877077\n",
      "after iters alpha: 5.880345871255547 beta: 0.60723987877077\n",
      "i: 0\n",
      "before iters alpha: 5.880345871255547 beta: 0.60723987877077\n",
      "after iters alpha: 5.880345871255547 beta: 0.60723987877077\n",
      "i: 0\n",
      "before iters alpha: 5.880345871255547 beta: 0.60723987877077\n",
      "after iters alpha: 5.880345871255547 beta: 0.60723987877077\n",
      "i: 0\n",
      "before iters alpha: 5.880345871255547 beta: 0.60723987877077\n",
      "after iters alpha: 5.880345871255547 beta: 0.60723987877077\n",
      "i: 0\n",
      "before iters alpha: 5.880345871255547 beta: 0.60723987877077\n",
      "after iters alpha: 5.880345871255547 beta: 0.60723987877077\n",
      "i: 0\n",
      "before iters alpha: 5.880345871255547 beta: 0.60723987877077\n",
      "after iters alpha: 5.880345871255547 beta: 0.60723987877077\n",
      "i: 0\n",
      "before iters alpha: 5.880345871255547 beta: 0.60723987877077\n",
      "after iters alpha: 5.880345871255547 beta: 0.60723987877077\n",
      "i: 0\n",
      "before iters alpha: 5.880345871255547 beta: 0.60723987877077\n",
      "after iters alpha: 5.880345871255547 beta: 0.60723987877077\n",
      "i: 0\n",
      "before iters alpha: 5.880345871255547 beta: 0.60723987877077\n",
      "after iters alpha: 5.880345871255547 beta: 0.60723987877077\n"
     ]
    }
   ],
   "source": [
    "for _ in range(3):\n",
    "    animate()\n",
    "    "
   ]
  },
  {
   "cell_type": "code",
   "execution_count": null,
   "metadata": {},
   "outputs": [],
   "source": [
    "resulting_animation = animation.FuncAnimation(fig,animate,np.arange(0,250),interval=100)"
   ]
  },
  {
   "cell_type": "code",
   "execution_count": null,
   "metadata": {},
   "outputs": [],
   "source": [
    "# bug here if it doesnt complete\n",
    "resulting_animation"
   ]
  },
  {
   "cell_type": "code",
   "execution_count": null,
   "metadata": {},
   "outputs": [],
   "source": [
    "Writer = animation.writers['ffmpeg']\n",
    "writer = Writer(fps=15, metadata=dict(artist='Me'), bitrate=1800)\n",
    "resulting_animation.save('SGD_animation.mp4', writer=writer)"
   ]
  },
  {
   "cell_type": "markdown",
   "metadata": {},
   "source": [
    "<h6>SGD w/momentum</h6>"
   ]
  },
  {
   "cell_type": "code",
   "execution_count": null,
   "metadata": {},
   "outputs": [],
   "source": []
  }
 ],
 "metadata": {
  "kernelspec": {
   "display_name": "Python 3",
   "language": "python",
   "name": "python3"
  },
  "language_info": {
   "codemirror_mode": {
    "name": "ipython",
    "version": 3
   },
   "file_extension": ".py",
   "mimetype": "text/x-python",
   "name": "python",
   "nbconvert_exporter": "python",
   "pygments_lexer": "ipython3",
   "version": "3.7.3"
  }
 },
 "nbformat": 4,
 "nbformat_minor": 2
}
