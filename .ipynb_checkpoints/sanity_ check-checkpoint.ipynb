{
 "cells": [
  {
   "cell_type": "code",
   "execution_count": 2,
   "metadata": {},
   "outputs": [
    {
     "name": "stdout",
     "output_type": "stream",
     "text": [
      "(50,) (50,)\n"
     ]
    },
    {
     "data": {
      "image/png": "[encoded data removed]",
      "text/plain": [
       "<Figure size 432x288 with 1 Axes>"
      ]
     },
     "metadata": {
      "needs_background": "light"
     },
     "output_type": "display_data"
    }
   ],
   "source": [
    "import autograd.numpy as np\n",
    "import matplotlib.pyplot as plt\n",
    "import pandas as pd\n",
    "%matplotlib inline\n",
    "\n",
    "np.random.seed(0)\n",
    "n_samples = 50\n",
    "X = np.linspace(1, 50, n_samples)\n",
    "Y = 10*X + 6 + 2*np.random.randn(n_samples)\n",
    "print(Y.shape,X.shape)\n",
    "\n",
    "plt.plot(X, Y, 'k.')\n",
    "plt.xlabel(\"X\")\n",
    "plt.ylabel(\"Y\");\n"
   ]
  },
  {
   "cell_type": "code",
   "execution_count": 3,
   "metadata": {},
   "outputs": [],
   "source": [
    "def cost(param_list):\n",
    "    w, b = param_list\n",
    "    pred = w*X+b\n",
    "    return np.sqrt(((pred - Y) ** 2).mean(axis=None))/(2*len(Y))\n"
   ]
  },
  {
   "cell_type": "code",
   "execution_count": 9,
   "metadata": {},
   "outputs": [
    {
     "name": "stdout",
     "output_type": "stream",
     "text": [
      "Cost at w=0.0, b=0.0 is: 2.9809044649485408\n",
      "Cost at w=10.0, b=4.0 is: 0.03204794719387623\n",
      "Gradient at w=0.0, b=0.0 is: [array(-0.29297047), array(-0.00876516)]\n",
      "Gradient at w=10.0, b=4.0 is: [array(-0.14406455), array(-0.00711783)]\n"
     ]
    }
   ],
   "source": [
    "from copy import deepcopy\n",
    "import math\n",
    "from autograd import grad\n",
    "\n",
    "\n",
    "# Cost of w=0, b=0\n",
    "w, b = 0., 0.\n",
    "print(\"Cost at w={}, b={} is: {}\".format(w, b, cost([w, b])))\n",
    "\n",
    "# Cost of w=10, b=4. Should be lower than w=0, b=0\n",
    "w, b = 10., 4.\n",
    "print(\"Cost at w={}, b={} is: {}\".format(w, b, cost([w, b])))\n",
    "\n",
    "# Computing the gradient at w=0, b=0\n",
    "\n",
    "grad_cost =grad(cost)\n",
    "w, b = 0., 0.\n",
    "print(\"Gradient at w={}, b={} is: {}\".format(w, b, grad_cost([w, b])))\n",
    "\n",
    "# Computing the gradient at w=10, b=4. We would expect it to be smaller than at 0, 0\n",
    "w, b = 10., 4.\n",
    "print(\"Gradient at w={}, b={} is: {}\".format(w, b, grad_cost([w, b])))\n",
    "\n",
    "\n",
    "\n",
    "def adagrad_gd(param_init, cost, niter=5, lr=1e-2, eps=1e-8, random_seed=0):\n",
    "    \"\"\"\n",
    "    param_init: List of initial values of parameters\n",
    "    cost: cost function\n",
    "    niter: Number of iterations to run\n",
    "    lr: Learning rate\n",
    "    eps: Fudge factor, to avoid division by zero\n",
    "    \"\"\"\n",
    "    # Function to compute the gradient of the cost function\n",
    "    grad_cost = grad(cost)\n",
    "    params = deepcopy(param_init)\n",
    "    param_array, grad_array, lr_array, cost_array = [params], [], [[lr for _ in params]], [cost(params)]\n",
    "    # Initialising sum of squares of gradients for each param as 0\n",
    "    sum_squares_gradients = [np.zeros_like(param) for param in params]\n",
    "    for i in range(4):\n",
    "        out_params = []\n",
    "        gradients = grad_cost(params)\n",
    "        print(\"gradients:\",gradients,\" type:\",type(gradients[0]),type(gradients[1]),gradients[0].shape,gradients[1].shape)\n",
    "        # At each iteration, we add the square of the gradients to `sum_squares_gradients`\n",
    "        sum_squares_gradients= [eps + sum_prev + np.square(g) for sum_prev, g in zip(sum_squares_gradients, gradients)]\n",
    "        print(\"sum_squares_gradients:\",sum_squares_gradients)\n",
    "        # Adapted learning rate for parameter list\n",
    "        lrs = [np.divide(lr, np.sqrt(sg)) for sg in sum_squares_gradients]\n",
    "        print(\"lrs:\",lrs)\n",
    "        # Paramter update\n",
    "        params = [param-(adapted_lr*grad_param) for param, adapted_lr, grad_param in zip(params, lrs, gradients)]\n",
    "        print(\"params:\",params)\n",
    "        param_array.append(params)\n",
    "        lr_array.append(lrs)\n",
    "        grad_array.append(gradients)\n",
    "        cost_array.append(cost(params))\n",
    "        \n",
    "    return params, param_array, grad_array, lr_array, cost_array"
   ]
  },
  {
   "cell_type": "code",
   "execution_count": 10,
   "metadata": {},
   "outputs": [
    {
     "name": "stdout",
     "output_type": "stream",
     "text": [
      "gradients: [array(-0.29297314), array(-0.00876167)]  type: <class 'numpy.ndarray'> <class 'numpy.ndarray'> () ()\n",
      "sum_squares_gradients: [0.08583326819394188, 7.677679528367593e-05]\n",
      "lrs: [0.034132820391110014, 1.1412610875139353]\n",
      "params: [-0.0181822289211796, 0.4383312192707758]\n",
      "gradients: [array(-0.29297314), array(-0.00876165)]  type: <class 'numpy.ndarray'> <class 'numpy.ndarray'> () ()\n",
      "sum_squares_gradients: [0.1716665367551291, 0.00015355322046660015]\n",
      "lrs: [0.02413554873375983, 0.8069944266104785]\n",
      "params: [-0.01111116151365776, 0.44540181804936213]\n",
      "gradients: [array(-0.29297314), array(-0.00876163)]  type: <class 'numpy.ndarray'> <class 'numpy.ndarray'> () ()\n",
      "sum_squares_gradients: [0.25749980556928553, 0.00023032938349178817]\n",
      "lrs: [0.019706593003223104, 0.6589088298237781]\n",
      "params: [-0.005337659148293317, 0.4511749335241041]\n",
      "gradients: [array(-0.29297314), array(-0.00876162)]  type: <class 'numpy.ndarray'> <class 'numpy.ndarray'> () ()\n",
      "sum_squares_gradients: [0.34333307458585016, 0.00030710533218454144]\n",
      "lrs: [0.017066410150567188, 0.5706322615158893]\n",
      "params: [-0.0003376594287759988, 0.4561745953761317]\n"
     ]
    }
   ],
   "source": [
    "# Fixing the random seed for reproducible init params for `W` and `b`\n",
    "first_param = np.random.randn()\n",
    "second_param = np.random.randn()\n",
    "print(\"first_param:\",first_param, \" second_param:\",second_param)\n",
    "param_init = [first_param, second_param]\n",
    "lr = 0.01\n",
    "eps=1e-8\n",
    "niter=1000\n",
    "ada_params, ada_param_array, ada_grad_array, ada_lr_array, ada_cost_array = adagrad_gd(param_init, cost, niter=niter, lr=lr, eps=eps)"
   ]
  },
  {
   "cell_type": "code",
   "execution_count": null,
   "metadata": {},
   "outputs": [],
   "source": [
    "pd.Series(ada_cost_array, name='Cost').plot(title='Adagrad: Cost v/s # Iterations')\n",
    "plt.ylabel(\"Cost\")\n",
    "plt.xlabel(\"# Iterations\");"
   ]
  },
  {
   "cell_type": "code",
   "execution_count": null,
   "metadata": {},
   "outputs": [],
   "source": []
  }
 ],
 "metadata": {
  "kernelspec": {
   "display_name": "Python 3",
   "language": "python",
   "name": "python3"
  },
  "language_info": {
   "codemirror_mode": {
    "name": "ipython",
    "version": 3
   },
   "file_extension": ".py",
   "mimetype": "text/x-python",
   "name": "python",
   "nbconvert_exporter": "python",
   "pygments_lexer": "ipython3",
   "version": "3.7.3"
  }
 },
 "nbformat": 4,
 "nbformat_minor": 2
}
