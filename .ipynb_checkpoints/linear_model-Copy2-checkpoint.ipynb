{
 "cells": [
  {
   "cell_type": "code",
   "execution_count": null,
   "metadata": {},
   "outputs": [],
   "source": [
    "# Notebook adapted from Jeremy P. Howard"
   ]
  },
  {
   "cell_type": "code",
   "execution_count": null,
   "metadata": {},
   "outputs": [],
   "source": [
    "import numpy as np\n",
    "from numpy.random import random, randn\n",
    "from matplotlib import pyplot as plt, animation, rcParams, rc\n"
   ]
  },
  {
   "cell_type": "code",
   "execution_count": null,
   "metadata": {},
   "outputs": [],
   "source": [
    "def linear_function(alpha,beta,x): return alpha+beta*x\n",
    "rc('animation',html='html5')\n",
    "rcParams['figure.figsize'] = 3, 3\n",
    "\n",
    "beta_true = 6.0\n",
    "alpha_true = 3.0\n",
    "n = 30\n",
    "x = random(n)\n",
    "y = linear_function(alpha_true,beta_true,x)+0.2*randn(n)\n",
    "beta = -1.\n",
    "alpha = 3.\n",
    "learning_rate = 0.01"
   ]
  },
  {
   "cell_type": "markdown",
   "metadata": {},
   "source": [
    "<p>Square error is square of difference between predicted and actual data values</p>\n",
    "Define predicted: ${\\hat y} $ and actual:${y}$ \n",
    "<p>Loss is:</p>\n",
    "$({\\hat y}-{y})^2$\n",
    "<p>Previous definition y as linear_function</p>\n",
    "${\\hat y=\\alpha + \\beta x}$\n",
    "<p>To minmize the Loss we take the derivative of the loss wrt alpha and beta, not x. x and y are datapoints\n",
    "which is our dataset we are trying to fit to. The derivative of y is the sum of the partial derivatives of the dependent variables\n",
    "which in this case are alpha and beta. </p>\n",
    "<p></p>\n",
    "$derivative(loss)=\\cfrac{\\partial(loss)}{\\partial \\alpha} + \\cfrac{\\partial(loss)}{\\partial \\beta}$\n",
    "<p></p>\n",
    "$\\cfrac{\\partial(loss)}{\\partial \\alpha}=\\cfrac{(\\hat y - y)^2}{\\partial \\alpha}=\\cfrac{2*(\\hat y-y)*\\partial(\\hat y - y)}{\\partial \\alpha}$\n",
    "<p>Using:</p>\n",
    "$\\cfrac{\\partial \\hat y}{\\partial \\alpha}=1$ \n",
    "<p>and</p>\n",
    "$\\cfrac{\\partial y}{\\partial \\alpha}=0$\n",
    "<p>the derivative of loss wrt alpha for y-hat is:</p>\n",
    "$\\cfrac{\\partial (loss)}{\\partial \\alpha}=2(\\hat y-y)$\n",
    "<p>The derivative of loss WRT beta starts as:</p>  \n",
    "$\\cfrac{\\partial(loss)}{\\partial \\beta}=\\cfrac{(\\hat y - y)^2}{\\partial \\beta}=\\cfrac{2*(\\hat y-y)}{\\partial \\beta}*\\cfrac{\\partial(\\hat y -y)}{\\partial \\beta}$\n",
    "<p></p>\n",
    "$\\cfrac{\\partial \\hat y}{\\partial \\beta}=x$ and\n",
    "$\\cfrac{\\partial y}{\\partial \\beta}=0$\n",
    "<p>the derivative of loss wrt beta for y-hat is:</p>\n",
    "$\\cfrac{\\partial (loss)}{\\partial \\beta}=2x*(\\hat y-y)$\n"
   ]
  },
  {
   "cell_type": "code",
   "execution_count": null,
   "metadata": {},
   "outputs": [],
   "source": [
    "def update_alpha_and_beta():\n",
    "    global alpha, beta\n",
    "    y_predicted = linear_function(alpha,beta,x)\n",
    "    derivative_of_loss_wrt_alpha = 2*(y_predicted-y)\n",
    "    derivative_of_loss_wrt_beta = x* derivative_of_loss_wrt_alpha\n",
    "    alpha = alpha - learning_rate*derivative_of_loss_wrt_alpha.mean()\n",
    "    beta = beta - learning_rate*derivative_of_loss_wrt_beta.mean()\n",
    "# i is the frame nuber!\n",
    "#https://math.unice.fr/~hheumann/Tutorial/_build/intro_matplotlib.html\n",
    "def animate(i):\n",
    "    x = np.linspace(0,1,100)\n",
    "    y = linear_function(alpha,beta,x)\n",
    "    line.set_data(x,y)\n",
    "    for i in range(20): \n",
    "        update_alpha_and_beta()\n",
    "    return (line,)"
   ]
  },
  {
   "cell_type": "code",
   "execution_count": null,
   "metadata": {
    "scrolled": true
   },
   "outputs": [],
   "source": [
    "fig = plt.figure(dpi=80,figsize=(7,7))\n",
    "ax = fig.add_subplot(111)\n",
    "ax.set_xlim((0,1))\n",
    "ax.set_ylim((-2,15))\n",
    "plt.scatter(x,y)\n",
    "line, = ax.plot([],[],lw=2)"
   ]
  },
  {
   "cell_type": "code",
   "execution_count": null,
   "metadata": {},
   "outputs": [],
   "source": [
    "resulting_animation = animation.FuncAnimation(fig,animate,frames=np.arange(0,250),interval=100)"
   ]
  },
  {
   "cell_type": "code",
   "execution_count": null,
   "metadata": {},
   "outputs": [],
   "source": [
    "# Comment out (or delete) the following command, which shows the animation in Jupyter Notebook, \n",
    "# if you want the mp4 saved to disk to be correctly animated. \n",
    "# (Alternatively, you can reset the values of alpha and beta to their initial values \n",
    "# after this command.)\n",
    "\n",
    "resulting_animation"
   ]
  },
  {
   "cell_type": "code",
   "execution_count": null,
   "metadata": {},
   "outputs": [],
   "source": [
    "Writer = animation.writers['ffmpeg']\n",
    "writer = Writer(fps=15, metadata=dict(artist='Me'), bitrate=1800)\n",
    "resulting_animation.save('linear_animation.mp4', writer=writer)"
   ]
  },
  {
   "cell_type": "code",
   "execution_count": null,
   "metadata": {},
   "outputs": [],
   "source": [
    "print('Done linear animation')"
   ]
  },
  {
   "cell_type": "markdown",
   "metadata": {},
   "source": [
    "$y=\\gamma x^2 + \\beta x + \\alpha$\n",
    "<p></p>\n",
    "$\\cfrac{\\partial(loss)}{\\partial \\gamma}=2x^2(\\hat y-y)$\n",
    "$\\cfrac{\\partial(loss)}{\\partial \\beta}=2x(\\hat y -y)$\n",
    "$\\cfrac{\\partial(loss)}{\\partial \\alpha}=2(\\hat y-y)$\n"
   ]
  },
  {
   "cell_type": "markdown",
   "metadata": {},
   "source": [
    "<h6>Squared Function</h6>"
   ]
  },
  {
   "cell_type": "code",
   "execution_count": null,
   "metadata": {},
   "outputs": [],
   "source": [
    "#It doesnt make sense to use a quadratic to approximate a linear function,so change the dataset to \n",
    "#be quadratic\n",
    "def square_function(gamma, beta, alpha,x):\n",
    "    return gamma*x**2 + beta*x + alpha\n",
    "\n",
    "beta_true = 2.0\n",
    "alpha_true = 2.0\n",
    "gamma_true = 10.0\n",
    "\n",
    "n = 300\n",
    "x = random(n)\n",
    "y = square_function(gamma_true,beta_true,alpha_true,x)+0.2*randn(n)\n",
    "beta = -1.\n",
    "alpha = 3.\n",
    "gamma = 2.\n",
    "learning_rate = 0.01"
   ]
  },
  {
   "cell_type": "code",
   "execution_count": null,
   "metadata": {},
   "outputs": [],
   "source": [
    "def update_squared():\n",
    "    global gamma, alpha, beta\n",
    "    y_predicted = square_function(gamma,beta,alpha,x)\n",
    "    derivative_of_loss_wrt_gamma = 2*x**2*(y_predicted-y)\n",
    "    derivative_of_loss_wrt_alpha = 2*(y_predicted-y)\n",
    "    derivative_of_loss_wrt_beta = x* derivative_of_loss_wrt_alpha\n",
    "    alpha = alpha - learning_rate*derivative_of_loss_wrt_alpha.mean()\n",
    "    beta = beta - learning_rate*derivative_of_loss_wrt_beta.mean()\n",
    "    gamma = gamma - learning_rate * derivative_of_loss_wrt_gamma.mean()\n",
    "\n",
    "def animate(i):\n",
    "    x = np.linspace(0,1,100)\n",
    "    y = square_function(gamma,beta,alpha,x)\n",
    "    line.set_data(x,y)\n",
    "    for i in range(20): \n",
    "        update_squared()\n",
    "    return (line,)"
   ]
  },
  {
   "cell_type": "code",
   "execution_count": null,
   "metadata": {},
   "outputs": [],
   "source": [
    "fig = plt.figure(dpi=80,figsize=(7,7))\n",
    "ax = fig.add_subplot(111)\n",
    "ax.set_xlim((0,1))\n",
    "ax.set_ylim((-2,15))\n",
    "plt.scatter(x,y)\n",
    "line, = ax.plot([],[],lw=2)"
   ]
  },
  {
   "cell_type": "code",
   "execution_count": null,
   "metadata": {},
   "outputs": [],
   "source": [
    "resulting_animation = animation.FuncAnimation(fig,animate,np.arange(0,250),interval=100)"
   ]
  },
  {
   "cell_type": "code",
   "execution_count": null,
   "metadata": {},
   "outputs": [],
   "source": [
    "#%matplotlib inline\n",
    "resulting_animation"
   ]
  },
  {
   "cell_type": "code",
   "execution_count": null,
   "metadata": {},
   "outputs": [],
   "source": [
    "Writer = animation.writers['ffmpeg']\n",
    "writer = Writer(fps=30, metadata=dict(artist='Me'), bitrate=1800)\n",
    "resulting_animation.save('squared_animation.mp4', writer=writer)"
   ]
  },
  {
   "cell_type": "code",
   "execution_count": null,
   "metadata": {},
   "outputs": [],
   "source": [
    "print('Done squared animation')"
   ]
  },
  {
   "cell_type": "markdown",
   "metadata": {},
   "source": [
    "<h6>GD w/momentum</h6>"
   ]
  },
  {
   "cell_type": "code",
   "execution_count": null,
   "metadata": {},
   "outputs": [],
   "source": [
    "import numpy as np\n",
    "from numpy.random import random, randn\n",
    "from matplotlib import pyplot as plt, animation, rcParams, rc\n"
   ]
  },
  {
   "cell_type": "code",
   "execution_count": null,
   "metadata": {},
   "outputs": [],
   "source": [
    "def linear_function(alpha,beta,x): return alpha+beta*x\n",
    "rc('animation',html='html5')\n",
    "rcParams['figure.figsize'] = 3, 3\n",
    "\n",
    "beta_true = 6.0\n",
    "alpha_true = 3.0\n",
    "n = 30\n",
    "x = random(n)\n",
    "y = linear_function(alpha_true,beta_true,x)+0.2*randn(n)\n",
    "beta = -1.\n",
    "alpha = 3.\n",
    "learning_rate = 0.01\n",
    "initial_velocity=0.1\n",
    "\n",
    "mom=0.9\n",
    "v_alpha = 0\n",
    "v_beta = 0"
   ]
  },
  {
   "cell_type": "code",
   "execution_count": null,
   "metadata": {},
   "outputs": [],
   "source": [
    "def update_alpha_and_beta():\n",
    "    global alpha, beta,v_alpha,v_beta\n",
    "    #more efficient code w/o the loop bc it is vectorized\n",
    "    y_predicted = linear_function(alpha,beta,x)\n",
    "    derivative_of_loss_wrt_alpha = 2*(y_predicted-y)\n",
    "    derivative_of_loss_wrt_beta = x * derivative_of_loss_wrt_alpha\n",
    "    v_alpha = mom*v_alpha - np.mean(learning_rate*derivative_of_loss_wrt_alpha)\n",
    "    v_beta = mom*v_beta - np.mean(learning_rate*derivative_of_loss_wrt_beta)\n",
    "    alpha = alpha + v_alpha\n",
    "    beta = beta + v_beta\n",
    "    \n",
    "def animate(i):\n",
    "    x = np.linspace(0,1,100)\n",
    "    y = linear_function(alpha,beta,x)\n",
    "    line.set_data(x,y)\n",
    "    for i in range(20): \n",
    "        update_alpha_and_beta()\n",
    "    return (line,)"
   ]
  },
  {
   "cell_type": "code",
   "execution_count": null,
   "metadata": {},
   "outputs": [],
   "source": [
    "fig = plt.figure(dpi=80,figsize=(7,7))\n",
    "ax = fig.add_subplot(111)\n",
    "ax.set_xlim((0,1))\n",
    "ax.set_ylim((-2,15))\n",
    "plt.scatter(x,y)\n",
    "line, = ax.plot([],[],lw=2)"
   ]
  },
  {
   "cell_type": "code",
   "execution_count": null,
   "metadata": {},
   "outputs": [],
   "source": [
    "resulting_animation = animation.FuncAnimation(fig,animate,np.arange(0,250),interval=100)"
   ]
  },
  {
   "cell_type": "code",
   "execution_count": null,
   "metadata": {},
   "outputs": [],
   "source": [
    "resulting_animation"
   ]
  },
  {
   "cell_type": "code",
   "execution_count": null,
   "metadata": {},
   "outputs": [],
   "source": [
    "Writer = animation.writers['ffmpeg']\n",
    "writer = Writer(fps=15, metadata=dict(artist='Me'), bitrate=1800)\n",
    "resulting_animation.save('GD_w_mom_animation.mp4', writer=writer)"
   ]
  },
  {
   "cell_type": "markdown",
   "metadata": {},
   "source": [
    "<h6>Test Vectorized mean</h6>\n",
    "\n"
   ]
  },
  {
   "cell_type": "code",
   "execution_count": null,
   "metadata": {},
   "outputs": [],
   "source": [
    "# nonvectorized version. do not do this. \n",
    "def update_alpha_and_beta():\n",
    "    global alpha, beta,v_alpha,v_beta\n",
    "    #more efficient code w/o the loop bc it is vectorized\n",
    "    for i in range(n):\n",
    "        y_predicted = linear_function(alpha,beta,x[i])\n",
    "        derivative_of_loss_wrt_alpha = 2*(y_predicted-y[i])\n",
    "        derivative_of_loss_wrt_beta = x[i] * derivative_of_loss_wrt_alpha\n",
    "        v_alpha = mom*v_alpha - (1/n)*learning_rate*derivative_of_loss_wrt_alpha\n",
    "        v_beta = mom*v_beta - (1/n)*learning_rate*derivative_of_loss_wrt_beta \n",
    "    alpha = alpha + v_alpha\n",
    "    beta = beta + v_beta\n",
    "    \n",
    "def animate(i):\n",
    "    x = np.linspace(0,1,100)\n",
    "    y = linear_function(alpha,beta,x)\n",
    "    line.set_data(x,y)\n",
    "    for i in range(20): \n",
    "        update_alpha_and_beta()\n",
    "    return (line,)"
   ]
  },
  {
   "cell_type": "code",
   "execution_count": null,
   "metadata": {},
   "outputs": [],
   "source": [
    "#all the code I see on blogs are wrong. Only JH got it right. \n",
    "import time\n",
    "test = np.random.rand(100000000)\n",
    "\n",
    "def vec_mean():\n",
    "    start_time = time.time()\n",
    "    test.mean()\n",
    "    end_time = time.time()\n",
    "    print(\"vec mean time:\",end_time-start_time)\n",
    "def nonvec_mean():\n",
    "    start_time = time.time()\n",
    "    sum=0.\n",
    "    for i in range(len(test)):\n",
    "        sum += test[i]\n",
    "    mean = sum/len(test)\n",
    "    end_time = time.time()\n",
    "    print(\"nonvec mean time:\",end_time-start_time)\n",
    "    \n",
    "vec_mean()\n",
    "nonvec_mean()\n"
   ]
  },
  {
   "cell_type": "markdown",
   "metadata": {},
   "source": [
    "<h6>Gradient Descent with Nesterov</h6>\n"
   ]
  },
  {
   "cell_type": "markdown",
   "metadata": {},
   "source": [
    "<p>The Loss function replaces theta with theta_tilde </p>\n",
    "$L(f(x^{(i)}); \\tilde \\theta,y^{(i)})$\n",
    "<p>where theta_tilde is theta with a constant times velocity</p>\n",
    "$\\tilde \\theta = \\theta + \\alpha v $\n",
    "<p>To calculate the gradient g we need to compute the partial derivatives of the loss function</p>\n",
    "$loss=(\\hat y -\\tilde y)$\n",
    "<p>where we convert theta to theta_tilde by replacing all the parameters in the linear equation with tilde versions</p>\n",
    "$y(\\tilde \\theta) = \\tilde A x + \\tilde B$ compared to before $y(\\theta) = Ax+b$\n",
    "<p>We changed notation from the earlier convention to avoid confusion with the IG defition of alpha as the\n",
    "momentum coefficient vs. alpha defined as a theta parameter as before</p>\n",
    "$Loss(\\tilde \\theta)=(\\hat y -y(\\tilde \\theta))^2$\n",
    "<p>Taking the partial derivatives of the loss WRT A and B which is the equivalent of taking the partials WRT alpha and beta earlier</p>\n",
    "$\\cfrac{\\partial Loss(\\tilde \\theta)}{\\partial A }=2(\\hat y -y(\\tilde \\theta)) \\cfrac{\\partial (\\tilde y - y(\\tilde \\theta))}{\\partial A}=2(\\hat y -y(\\tilde \\theta))(-x) $\n",
    "<p></p>\n",
    "$\\cfrac{\\partial Loss(\\tilde \\theta)}{\\partial B }= 2(\\hat y -y(\\tilde \\theta)) \\cfrac{\\partial (\\tilde y - y(\\tilde \\theta))}{\\partial B}=2(\\hat y -y(\\tilde \\theta))(-1) $\n",
    "<p>Converting the expectations to mean</p>\n",
    "$\\cfrac{\\partial Loss(\\tilde \\theta)}{\\partial A} = \\cfrac{-2}{N}\\sum_{1}^{N}x(\\hat y - y(\\theta))=\\cfrac{2}{N}\\sum_{1}^{N}x(y(\\theta)-\\hat y)$\n",
    "<p></p>\n",
    "$\\cfrac{\\partial Loss(\\tilde \\theta)}{\\partial B }= \\cfrac{-2}{N}\\sum_{1}^{N}(\\hat y - y(\\theta))=\\cfrac{2}{N}\\sum_{1}^{N}(y(\\theta)-\\hat y)$\n",
    "<p></p>\n",
    "\n"
   ]
  },
  {
   "cell_type": "code",
   "execution_count": null,
   "metadata": {},
   "outputs": [],
   "source": [
    "import numpy as np\n",
    "from numpy.random import random, randn\n",
    "from matplotlib import pyplot as plt, animation, rcParams, rc\n",
    "\n",
    "def linear_function(alpha,beta,x): \n",
    "    return alpha+beta*x\n",
    "rc('animation',html='html5')\n",
    "rcParams['figure.figsize'] = 3, 3\n",
    "\n",
    "beta_true = 6.0\n",
    "alpha_true = 3.0\n",
    "n = 30\n",
    "x = random(n)\n",
    "y = linear_function(alpha_true,beta_true,x)+0.2*randn(n)\n",
    "beta = -1.\n",
    "alpha = 3.\n",
    "learning_rate = 0.01\n",
    "\n",
    "\n",
    "mom=0.9\n",
    "v_alpha = 0\n",
    "v_beta = 0\n",
    "alpha_tilde=0\n",
    "beta_tilde=0\n",
    "loss = []\n",
    "num_times=0\n",
    "loss = []"
   ]
  },
  {
   "cell_type": "code",
   "execution_count": null,
   "metadata": {},
   "outputs": [],
   "source": [
    "def update_alpha_and_beta():\n",
    "    global alpha, beta,v_alpha,v_beta\n",
    "    #interim update\n",
    "    alpha_tilde = alpha + mom*v_alpha\n",
    "    beta_tilde = beta + mom*v_beta\n",
    "    \n",
    "    y_predicted = linear_function(alpha_tilde,beta_tilde,x)\n",
    "    derivative_of_loss_wrt_alpha_theta_tilde = 2*(y_predicted-y)\n",
    "    derivative_of_loss_wrt_beta_theta_tilde = x * derivative_of_loss_wrt_alpha_theta_tilde\n",
    "    #gradient update\n",
    "    v_alpha = mom*v_alpha - learning_rate*derivative_of_loss_wrt_alpha_theta_tilde.mean()\n",
    "    v_beta = mom*v_beta - learning_rate*derivative_of_loss_wrt_beta_theta_tilde.mean()\n",
    "    #velocity update\n",
    "    alpha = alpha + v_alpha\n",
    "    beta = beta + v_beta\n",
    "    print(alpha,beta)\n",
    "    print(\"alpha shape:\",alpha.shape,\" beta shape:\",beta.shape)\n",
    "def animate(i):\n",
    "    global num_times\n",
    "    num_times +=1\n",
    "    x = np.linspace(0,1,100)\n",
    "    y = linear_function(alpha,beta,x)\n",
    "    line.set_data(x,y)\n",
    "    for i in range(20): \n",
    "        update_alpha_and_beta()\n",
    "    return (line,)"
   ]
  },
  {
   "cell_type": "code",
   "execution_count": null,
   "metadata": {},
   "outputs": [],
   "source": [
    "for _ in range(4):\n",
    "    update_alpha_and_beta()\n"
   ]
  },
  {
   "cell_type": "code",
   "execution_count": null,
   "metadata": {},
   "outputs": [],
   "source": [
    "print(len(loss))\n",
    "x_axis=np.arange(0,250)\n",
    "plt.plot(x_axis,loss)\n",
    "plt.show()"
   ]
  },
  {
   "cell_type": "code",
   "execution_count": null,
   "metadata": {},
   "outputs": [],
   "source": [
    "fig = plt.figure(dpi=80,figsize=(7,7))\n",
    "ax = fig.add_subplot(111)\n",
    "ax.set_xlim((0,1))\n",
    "ax.set_ylim((-2,15))\n",
    "plt.scatter(x,y)\n",
    "line, = ax.plot([],[],lw=2)"
   ]
  },
  {
   "cell_type": "code",
   "execution_count": null,
   "metadata": {},
   "outputs": [],
   "source": [
    "resulting_animation = animation.FuncAnimation(fig,animate,np.arange(0,250),interval=100)"
   ]
  },
  {
   "cell_type": "code",
   "execution_count": null,
   "metadata": {},
   "outputs": [],
   "source": [
    "resulting_animation"
   ]
  },
  {
   "cell_type": "code",
   "execution_count": null,
   "metadata": {},
   "outputs": [],
   "source": [
    "#verify 251 times \n",
    "print(num_times)"
   ]
  },
  {
   "cell_type": "code",
   "execution_count": null,
   "metadata": {},
   "outputs": [],
   "source": [
    "Writer = animation.writers['ffmpeg']\n",
    "writer = Writer(fps=15, metadata=dict(artist='Me'), bitrate=1800)\n",
    "resulting_animation.save('Nesterov_animation.mp4', writer=writer)"
   ]
  },
  {
   "cell_type": "markdown",
   "metadata": {},
   "source": [
    "<h6>Ada Optimization</h6>"
   ]
  },
  {
   "cell_type": "code",
   "execution_count": 9,
   "metadata": {},
   "outputs": [],
   "source": [
    "import numpy as np\n",
    "import math\n",
    "from numpy.random import random, randn\n",
    "from matplotlib import pyplot as plt, animation, rcParams, rc\n",
    "\n",
    "\n",
    "def linear_function(alpha,beta,x): return alpha+beta*x\n",
    "rc('animation',html='html5')\n",
    "rcParams['figure.figsize'] = 3, 3\n",
    "\n",
    "beta_true = 6.0\n",
    "alpha_true = 3.0\n",
    "n = 30\n",
    "x = random(n)\n",
    "y = linear_function(alpha_true,beta_true,x)+0.2*randn(n)\n",
    "beta = -1.\n",
    "alpha = 3.\n",
    "learning_rate = 0.04\n",
    "\n",
    "#epsilon\n",
    "epsilon=0.9\n",
    "#r\n",
    "r_alpha = 0\n",
    "r_beta = 0\n",
    "delta = 10**(-7)\n"
   ]
  },
  {
   "cell_type": "code",
   "execution_count": 14,
   "metadata": {},
   "outputs": [],
   "source": [
    "def update_alpha_and_beta():\n",
    "    global alpha, beta\n",
    "    r_alpha=0\n",
    "    r_beta=0 \n",
    "    #gradient\n",
    "    y_predicted = linear_function(alpha,beta,x)\n",
    "    g_alpha  = 2 * (y_predicted-y)\n",
    "    g_beta = x * g_alpha\n",
    "    #accumulate squared gradient\n",
    "    #print(\"g_alpha:\",type(g_alpha))\n",
    "    #print(\"g_beta:\",type(g_beta))\n",
    "    r_alpha = r_alpha + np.multiply(g_alpha.mean(),g_alpha.mean())\n",
    "    r_beta = r_beta + np.multiply(g_beta.mean(),g_beta.mean())\n",
    "    print(\"r_alhpa:\",type(r_alpha.mean()),r_alpha.mean(),r_alpha.shape)\n",
    "    print(\"r_beta:\",type(r_beta.mean()),r_beta.mean(),r_beta.shape)\n",
    "    print(type(epsilon),type(np.add(delta,np.sqrt(r_alpha))),type(g_alpha.mean()))\n",
    "    delta_alpha = -np.divide(epsilon,np.add(delta,np.sqrt(r_alpha)),g_alpha.mean())\n",
    "    delta_beta =  -np.divide(epsilon,np.add(delta,np.sqrt(r_beta)),g_beta.mean())\n",
    "    print(\"delta_alpha:\",delta_alpha)\n",
    "    print(\"delta_beta:\",delta_beta)\n",
    "    #velocity update\n",
    "    alpha = alpha + delta_alpha\n",
    "    beta = beta + delta_beta\n",
    "    print(\"alpha:\",alpha,\" beta:\",beta)\n",
    "    print(\"alpha shape:\",alpha.shape,\"beta shape:\",beta.shape)\n",
    "def animate(i):\n",
    "    x = np.linspace(0,1,100)\n",
    "    y = linear_function(alpha,beta,x)\n",
    "    line.set_data(x,y)\n",
    "    for i in range(20): \n",
    "        update_alpha_and_beta()\n",
    "    return (line,)"
   ]
  },
  {
   "cell_type": "code",
   "execution_count": 15,
   "metadata": {},
   "outputs": [
    {
     "name": "stdout",
     "output_type": "stream",
     "text": [
      "r_alhpa: <class 'numpy.float64'> 34.64495706368142 ()\n",
      "r_beta: <class 'numpy.float64'> 12.548052171998236 ()\n",
      "<class 'float'> <class 'numpy.float64'> <class 'numpy.float64'>\n"
     ]
    },
    {
     "ename": "TypeError",
     "evalue": "return arrays must be of ArrayType",
     "output_type": "error",
     "traceback": [
      "\u001b[0;31m---------------------------------------------------------------------------\u001b[0m",
      "\u001b[0;31mTypeError\u001b[0m                                 Traceback (most recent call last)",
      "\u001b[0;32m<ipython-input-15-a22b42eabcdc>\u001b[0m in \u001b[0;36m<module>\u001b[0;34m\u001b[0m\n\u001b[1;32m      1\u001b[0m \u001b[0;32mfor\u001b[0m \u001b[0m_\u001b[0m \u001b[0;32min\u001b[0m \u001b[0mrange\u001b[0m\u001b[0;34m(\u001b[0m\u001b[0;36m250\u001b[0m\u001b[0;34m)\u001b[0m\u001b[0;34m:\u001b[0m\u001b[0;34m\u001b[0m\u001b[0;34m\u001b[0m\u001b[0m\n\u001b[0;32m----> 2\u001b[0;31m     \u001b[0mupdate_alpha_and_beta\u001b[0m\u001b[0;34m(\u001b[0m\u001b[0;34m)\u001b[0m\u001b[0;34m\u001b[0m\u001b[0;34m\u001b[0m\u001b[0m\n\u001b[0m",
      "\u001b[0;32m<ipython-input-14-8505816942b1>\u001b[0m in \u001b[0;36mupdate_alpha_and_beta\u001b[0;34m()\u001b[0m\n\u001b[1;32m     15\u001b[0m     \u001b[0mprint\u001b[0m\u001b[0;34m(\u001b[0m\u001b[0;34m\"r_beta:\"\u001b[0m\u001b[0;34m,\u001b[0m\u001b[0mtype\u001b[0m\u001b[0;34m(\u001b[0m\u001b[0mr_beta\u001b[0m\u001b[0;34m.\u001b[0m\u001b[0mmean\u001b[0m\u001b[0;34m(\u001b[0m\u001b[0;34m)\u001b[0m\u001b[0;34m)\u001b[0m\u001b[0;34m,\u001b[0m\u001b[0mr_beta\u001b[0m\u001b[0;34m.\u001b[0m\u001b[0mmean\u001b[0m\u001b[0;34m(\u001b[0m\u001b[0;34m)\u001b[0m\u001b[0;34m,\u001b[0m\u001b[0mr_beta\u001b[0m\u001b[0;34m.\u001b[0m\u001b[0mshape\u001b[0m\u001b[0;34m)\u001b[0m\u001b[0;34m\u001b[0m\u001b[0;34m\u001b[0m\u001b[0m\n\u001b[1;32m     16\u001b[0m     \u001b[0mprint\u001b[0m\u001b[0;34m(\u001b[0m\u001b[0mtype\u001b[0m\u001b[0;34m(\u001b[0m\u001b[0mepsilon\u001b[0m\u001b[0;34m)\u001b[0m\u001b[0;34m,\u001b[0m\u001b[0mtype\u001b[0m\u001b[0;34m(\u001b[0m\u001b[0mnp\u001b[0m\u001b[0;34m.\u001b[0m\u001b[0madd\u001b[0m\u001b[0;34m(\u001b[0m\u001b[0mdelta\u001b[0m\u001b[0;34m,\u001b[0m\u001b[0mnp\u001b[0m\u001b[0;34m.\u001b[0m\u001b[0msqrt\u001b[0m\u001b[0;34m(\u001b[0m\u001b[0mr_alpha\u001b[0m\u001b[0;34m)\u001b[0m\u001b[0;34m)\u001b[0m\u001b[0;34m)\u001b[0m\u001b[0;34m,\u001b[0m\u001b[0mtype\u001b[0m\u001b[0;34m(\u001b[0m\u001b[0mg_alpha\u001b[0m\u001b[0;34m.\u001b[0m\u001b[0mmean\u001b[0m\u001b[0;34m(\u001b[0m\u001b[0;34m)\u001b[0m\u001b[0;34m)\u001b[0m\u001b[0;34m)\u001b[0m\u001b[0;34m\u001b[0m\u001b[0;34m\u001b[0m\u001b[0m\n\u001b[0;32m---> 17\u001b[0;31m     \u001b[0mdelta_alpha\u001b[0m \u001b[0;34m=\u001b[0m \u001b[0;34m-\u001b[0m\u001b[0mnp\u001b[0m\u001b[0;34m.\u001b[0m\u001b[0mdivide\u001b[0m\u001b[0;34m(\u001b[0m\u001b[0mepsilon\u001b[0m\u001b[0;34m,\u001b[0m\u001b[0mnp\u001b[0m\u001b[0;34m.\u001b[0m\u001b[0madd\u001b[0m\u001b[0;34m(\u001b[0m\u001b[0mdelta\u001b[0m\u001b[0;34m,\u001b[0m\u001b[0mnp\u001b[0m\u001b[0;34m.\u001b[0m\u001b[0msqrt\u001b[0m\u001b[0;34m(\u001b[0m\u001b[0mr_alpha\u001b[0m\u001b[0;34m)\u001b[0m\u001b[0;34m)\u001b[0m\u001b[0;34m,\u001b[0m\u001b[0mg_alpha\u001b[0m\u001b[0;34m.\u001b[0m\u001b[0mmean\u001b[0m\u001b[0;34m(\u001b[0m\u001b[0;34m)\u001b[0m\u001b[0;34m)\u001b[0m\u001b[0;34m\u001b[0m\u001b[0;34m\u001b[0m\u001b[0m\n\u001b[0m\u001b[1;32m     18\u001b[0m     \u001b[0mdelta_beta\u001b[0m \u001b[0;34m=\u001b[0m  \u001b[0;34m-\u001b[0m\u001b[0mnp\u001b[0m\u001b[0;34m.\u001b[0m\u001b[0mdivide\u001b[0m\u001b[0;34m(\u001b[0m\u001b[0mepsilon\u001b[0m\u001b[0;34m,\u001b[0m\u001b[0mnp\u001b[0m\u001b[0;34m.\u001b[0m\u001b[0madd\u001b[0m\u001b[0;34m(\u001b[0m\u001b[0mdelta\u001b[0m\u001b[0;34m,\u001b[0m\u001b[0mnp\u001b[0m\u001b[0;34m.\u001b[0m\u001b[0msqrt\u001b[0m\u001b[0;34m(\u001b[0m\u001b[0mr_beta\u001b[0m\u001b[0;34m)\u001b[0m\u001b[0;34m)\u001b[0m\u001b[0;34m,\u001b[0m\u001b[0mg_beta\u001b[0m\u001b[0;34m.\u001b[0m\u001b[0mmean\u001b[0m\u001b[0;34m(\u001b[0m\u001b[0;34m)\u001b[0m\u001b[0;34m)\u001b[0m\u001b[0;34m\u001b[0m\u001b[0;34m\u001b[0m\u001b[0m\n\u001b[1;32m     19\u001b[0m     \u001b[0mprint\u001b[0m\u001b[0;34m(\u001b[0m\u001b[0;34m\"delta_alpha:\"\u001b[0m\u001b[0;34m,\u001b[0m\u001b[0mdelta_alpha\u001b[0m\u001b[0;34m)\u001b[0m\u001b[0;34m\u001b[0m\u001b[0;34m\u001b[0m\u001b[0m\n",
      "\u001b[0;31mTypeError\u001b[0m: return arrays must be of ArrayType"
     ]
    }
   ],
   "source": [
    "for _ in range(250):\n",
    "    update_alpha_and_beta()"
   ]
  },
  {
   "cell_type": "code",
   "execution_count": 3,
   "metadata": {},
   "outputs": [
    {
     "data": {
      "image/png": "[encoded data removed]",
      "text/plain": [
       "<Figure size 560x560 with 1 Axes>"
      ]
     },
     "metadata": {
      "needs_background": "light"
     },
     "output_type": "display_data"
    }
   ],
   "source": [
    "fig = plt.figure(dpi=80,figsize=(7,7))\n",
    "ax = fig.add_subplot(111)\n",
    "ax.set_xlim((0,1))\n",
    "ax.set_ylim((-2,15))\n",
    "plt.scatter(x,y)\n",
    "line, = ax.plot([],[],lw=2)"
   ]
  },
  {
   "cell_type": "code",
   "execution_count": 4,
   "metadata": {},
   "outputs": [],
   "source": [
    "resulting_animation = animation.FuncAnimation(fig,animate,np.arange(0,250),interval=100)"
   ]
  },
  {
   "cell_type": "code",
   "execution_count": 5,
   "metadata": {},
   "outputs": [
    {
     "data": {
      "text/html": [
       "<video width=\"560\" height=\"560\" controls autoplay loop>\n",
       "  <source type=\"video/mp4\" src=\"data:video/mp4;base64,AAAAHGZ0eXBNNFYgAAACAGlzb21pc28yYXZjMQAAAAhmcmVlAAA5E21kYXQAAAKvBgX//6vcRem9\n",
       "5tlIt5Ys2CDZI+7veDI2NCAtIGNvcmUgMTU1IHIyOTE3IDBhODRkOTggLSBILjI2NC9NUEVHLTQg\n",
       "QVZDIGNvZGVjIC0gQ29weWxlZnQgMjAwMy0yMDE4IC0gaHR0cDovL3d3dy52aWRlb2xhbi5vcmcv\n",
       "eDI2NC5odG1sIC0gb3B0aW9uczogY2FiYWM9MSByZWY9MyBkZWJsb2NrPTE6MDowIGFuYWx5c2U9\n",
       "MHgzOjB4MTEzIG1lPWhleCBzdWJtZT03IHBzeT0xIHBzeV9yZD0xLjAwOjAuMDAgbWl4ZWRfcmVm\n",
       "PTEgbWVfcmFuZ2U9MTYgY2hyb21hX21lPTEgdHJlbGxpcz0xIDh4OGRjdD0xIGNxbT0wIGRlYWR6\n",
       "b25lPTIxLDExIGZhc3RfcHNraXA9MSBjaHJvbWFfcXBfb2Zmc2V0PS0yIHRocmVhZHM9MTIgbG9v\n",
       "a2FoZWFkX3RocmVhZHM9MiBzbGljZWRfdGhyZWFkcz0wIG5yPTAgZGVjaW1hdGU9MSBpbnRlcmxh\n",
       "Y2VkPTAgYmx1cmF5X2NvbXBhdD0wIGNvbnN0cmFpbmVkX2ludHJhPTAgYmZyYW1lcz0zIGJfcHly\n",
       "YW1pZD0yIGJfYWRhcHQ9MSBiX2JpYXM9MCBkaXJlY3Q9MSB3ZWlnaHRiPTEgb3Blbl9nb3A9MCB3\n",
       "ZWlnaHRwPTIga2V5aW50PTI1MCBrZXlpbnRfbWluPTEwIHNjZW5lY3V0PTQwIGludHJhX3JlZnJl\n",
       "c2g9MCByY19sb29rYWhlYWQ9NDAgcmM9Y3JmIG1idHJlZT0xIGNyZj0yMy4wIHFjb21wPTAuNjAg\n",
       "cXBtaW49MCBxcG1heD02OSBxcHN0ZXA9NCBpcF9yYXRpbz0xLjQwIGFxPTE6MS4wMACAAAAdHmWI\n",
       "hAAR//73iB8yy2n5OtdyEeetLq0fUO5GcV6kvf4gAAADAAADACaRZRF4EkYqOMsAAATEAGJFFcUL\n",
       "DsEf8wCXGGqFLbi9765EQamWIvldfwns1eABaepje6J3D6c9Wzlsiwh5n9axnfQYl72dWor9A3Ot\n",
       "BGaeD8ifgTcr6dJZzG4cjyF9rYUr5PDwuUeP/ZXfxipFMpAlkuNO3GdS9kGvmkCxdomQeOsJmAvD\n",
       "C74p+m++g1b6NiF2fx7dPt5zd0FdYYJGNBySVf21sChLS4D44xE+jFGKYuQd6VyazjB32yOjWAAB\n",
       "xhC1wjZmqt/QVApnJ0Ip4u0pEvBWkvDC28t8AxZxknVBvqDxvYintJA779Gr2rasRgta9BMOByuC\n",
       "YTXlLHn8lYBGPCyTTdeFmDftYflBa2YadizrkQRDGVgGeb2OQbStXdKYBgHxpPuU+8MW0WizruBP\n",
       "G0fg3uWuLFsF5pG59q+m2pfCoxSSlKBmtkvPsXDHqTBtIqL6/YCbojK6YmgEyTBQ3s42z7NcQURE\n",
       "Y7+xMr6sdaHsv5v2cW3KlG0suNNfxTiTvCM+AfoXS/hXSiSwOfsBNK+E7rPqyLfRxnbEE0oc0dqQ\n",
       "ooIspJF0NQdAYIKnpPBQV/1wbI+1mMAEya3DgCf6Zryzwstno3uT49Ao+ZYNbhfdLSH0PpyTIzTr\n",
       "+9PE4Y+xGYxaAAAniJJ6RWgAWcHS2ll8nT+HwrmmY9fDDZ9FfM3qAZpA4Z/WHRr5mdg1XUApIKuR\n",
       "a8ujIVMjH2CIeah8JuRmDkiF43nkzi1LA0fpOsDTMUBfBv/Yv//3tsdJ6cJvtIlouvUeZoVWUWKx\n",
       "mIvP0DvDadBsWDa7Nfih0zzqP1/LaV2gFhThdr+MpAb+KgjlMJKijP3AYQGEYerRwat8KASkWHfa\n",
       "CxP6jMVtXBY7InP3+qaeMhqXVyynwyAoTV9Ma7thsEac9izBlvgLSxLmn/ti82L6piFAiZzmQmju\n",
       "dIgUTn0NozUn3ErJXRToWZOFc1K3VF70zxD36nCVo5L3xQ31D4xBuUKGbQh326eAe5FAQxMbKs4r\n",
       "FkXDyr6s14JTD+CWbS4aZhftzGg+/lduAchlEVlRMymOuDgR9nIp+Hzi3C+F+j7ZDHY/S3hqC/nE\n",
       "JA4UEEVVqJ7GcCFJHpTYeGDrnA3IN7WteeWCNqVzj5ryUufL/qjxRJjiXutdfOJdvSrMDQN/NJo3\n",
       "vIH8WqeKjgprM6uGH/bFPJsJUNUNqfyCgUuFgVXbFLrGvmMal+TgCu2BMml/8O3HOtCQ9P2OzwRL\n",
       "th3zFd6PFhxtNiBsceAY/hvrpYwxBZN3MyAVcMacv2JfGxTyXctuqY7qiLgZ1XpmEF6CbDb4R3SE\n",
       "h+CVNuAd4hKvy6HF8nuYgNWZ1nk7VUJ62PK7E6lWRQgWAAh0nj6PA1RLHJIREW3bQ6w8hcUP4HvA\n",
       "EwjBnSMAxN6Hjam9wEXr5ax/zz56LTjH0KHSroPTscqRayfCrULiitbPL6N/FbowGcS6xQwZF7l4\n",
       "xGSN3zBLSXYkri/9R2M8p2jwPO74UbPPF/CyLxSrMP3cPVd5iLD+MkSrCkEEjVMAQpZvS8a5eDzQ\n",
       "9TDy0GooXS8s48R8il3V6iDXQlD/btmX8z9jLXa+wwNDWsmtSH00gbizf9p7WyF+lRkMn42L4WFE\n",
       "GbXa4XZEzzkn94GM4D2RjwXe8eFSfYSoBJqV9vLi1ITTzbs++7gRLndeQ6gLseuuDRW1q099lxU3\n",
       "3UjTGSXsra2ACRtovVCvCzs3E3hFWvZoTFeC2L/8pml5LU+LECSEHqGYrej9PI3CVsbp2vSYLeZN\n",
       "biT6yT5RpU7gbIcRAGPoOvkhZhIo1KsuPxYTYqeobpQNs9e2dj73pRJwcpiZAvSFSDB1lN2UOW9V\n",
       "jlfl201pDY7w11TqEWNT2O6C6fvjrFtN6nX93T6h6wCkbtdv2uEEexxz3QeYcgW5KpWCn/4SnGYj\n",
       "qStO/vL27z8/yP+crqhZj6KWOGLSMbT9mdcypv07mzJt5B7BM3J5ODd85qyk4tYP6ErELeBfKhQl\n",
       "lTEpgGZ1Thr1GtUjo2OQCIMqrwamuOwku4DNFnIr9Dquk1MmVVZJgF0bYLVfDIIPbkPiHD30kJ/o\n",
       "oB/SXwbbLZnucaO+VOcsZvAYv1vyLsSWI1L+eaqmI4vXBKe3sn4iaonxaXlL7s9EHdSGaC2Mw/Mn\n",
       "3JXQsWd55+LWIzrhBJP1U/RWcKglWPpmCGm1iWJxUKlB8Y7DvUJ/Q9NjdwTtU+KUF/k4aLDD2f/H\n",
       "nvZWdEsPrw4tONtMNGTb5/OfIQls4sAoJFAFj38I4huVytua+SLJgkAUyqBfF8g0x1GH/3EAZvOz\n",
       "P1VpOG8aHkVqgqdu7FMRxHbnydDK3DyWHb/8pEo1ug5L/B7YXTRZPCObvrDLZRVg+eVWbxAPM1Q5\n",
       "jPao+Bhu1Ivi4MO+CuG00MOEbz9YUxx60X2t/9Z1no9M/kIR+etJP/9KYaPLeZAgB0udAOc2uRWV\n",
       "BQvEWwhd/ZofKyU1Q0gs1ZNNcxxQUalkfxhTcohnlD42zv6T6KoRYQMf30eQCRUDQgS5qi5OzFUG\n",
       "hRSQdbEGcCiiXOqpWjZuQV+XM5nLxDi3wPf1Qzj1BeCAVRy+FOemsEOttDCt8niVvHMb6ZuW8oJt\n",
       "7FP2rZptg3aZx2sYtcOUEJduCXqq39HjLo0T7BpewNg0P0VpbgxRNH5lYOoDaBS999btSnZ0a3xz\n",
       "ncLjWbK0iT96MfFPzDAISDW1vu9DciEOpZVh805cWjs9gCKzAkVzZc8iXoBBPa2g2W8sIgA5RNsa\n",
       "Whi0V4G1AoroDE2kEMhXzRHFd9vzKlyuhLb+RNVypS3RybCNS/4ESySxUs6mpvaDlX2Gmlj7+KKx\n",
       "7/Gp7V5X4wzkxU3m1B4+e/I1ItgJ6W+rUBuM28S3MM1YakVgbOhNlL6TZFHGRnOBcoq0ID4lX5yK\n",
       "+W0GdMXTAJsXVx2azPBIfay/H5N2mBn7FJJSy0HxmHwepLOr2gGa+UZTFbOsBXU+htUzHmy+3NhL\n",
       "zek6HcjVmlVgIlo/A89Pg43Ih/HyLHBl6ACA8/Nc1p4fXAE5HqQQNHXK43NZCjRoc/9UgwvS428V\n",
       "Xcdcg393uiYDzIONW3lhHOfNatJXYBvK5xDq3dTHq7CSch9etqfIR0fa/+ocBTifIfWpgeAb5+Ep\n",
       "dxT2AcIZRZ4FBXqN74tNPm/yyx2NfFVJIMCXzNQeHGxCy8QOfzXE06FhuaKG5ZrkhhOu/YdEQXnE\n",
       "ho4Ugekn//xD5pG15Wb1GWc1JfRnnL8pUoCS2AFRqsp/AYmNwWBwhDy6F4eNbSHRc+emA0+tFoXK\n",
       "CQWKdMxT7K3Gw1DXd5J9fEkv/32JySqRHpBwbkM5BUVYEs4NC1OGus303/13a7mBCbTL1XZDde82\n",
       "ZUxylFcKTiLiNfJ0E/yz6jdLjZMX3MZ+pTMAB86skrAPBlmjTdDLAs+JGZpBAvfzLX3Fs5X+QwmF\n",
       "xitIeXpBcY1H/q7Ecb9CgvZOMrrabDMyGxHRpzPh/Qet5CmUHrPx7fJQ1k7w5f53ZLe8jhtnf3nf\n",
       "xPjhcfUjY727IC/YZexDbKlEK8O5BwjRWJB97Nhw4+WHXP6V2pLTAdPhRT8ANcpGUka1+6IhILj7\n",
       "MM30rD8MRSbMB30hlLzl9odJ10OK2itg+K1TRlUayiU1zKuloNAUYgVXkuUsnzxY3An7LY/A0X/S\n",
       "4P2yvGMGE2PTfG5fPPYnq1U/gqO3EOwz1KK0Q3VdMHsEG/MjyPVA0b/vgzFhT7SMTa2byEVJUZjy\n",
       "wfBAZrnrjvw0UfEnC4uzz75tLxpBB6/wPoTV7DDxunRTAgtTzo/g/vtKT0z1HxVXCYDWJI8ger2X\n",
       "sigZiTABzFq5Sp4t0xbOqYSgxr816zC3K8rc23/FdrOi8dRbtAwuUSspakM8HJ12pezVEGpz0/qZ\n",
       "9ITsa70VcIv3Eg9+3PpF43fuf7lW8fP8OF8GkX8R47dZDN5bgBVB1UxyPKLLJSZMf5guMfl8dD9v\n",
       "DcdrbWXaZG+O3sxaC+QnnmF+2sTEgdNXvgU7ZRxFq7qUwr3A5h5hzEzg2n7Be5+kaHtraGXdAsyQ\n",
       "385UgcAYkjJuNN2d2uGiLgJ1RvD56d4OxyVVnv7otO5sDqUIq3HbnxrNjXkiWZMOXwU2wiv/Nwsu\n",
       "O19pQUPlqeOfGGTytN9vuLyGC3y3qgW8aAqWxeGQBA8uwtIyjxnnptNCgSc3Li7/i+gZttAdBhkE\n",
       "z7Znw2DldIAnk+jhyhAizE0Nhpt2Gh3jx8Dv7jKBD/BjgVMwYCaB3p5r9e1zNiGxPg0yZ0iZ/FhZ\n",
       "YAAf7o+cdzkOLFqgq+b6zQqHrCIPzctSq+YeJPFUk2lON02gSokAnwnpve18vAP3QU39qRHOGM8c\n",
       "YBBtmVPeIBTIIhHZVSK7q/Cm/vBQc+h77eq3DpsDRBaYInIrj9/Wen+jgPrBYRQH5/AbymOGfsNW\n",
       "r8Zjy0Oxe1HryH1kEuJfaCrgIEVpf4UDbqv1c3lS4Vk7ogb4EpncTrfT+7TnMj2f2c76O70ccrM+\n",
       "SV9eeoWP157txN/and6G6QvVSznWlA/NryLD1aecuUlDZNw7D6Wyv8t+9ICPSmy2Ihk+crEmB7SD\n",
       "4VrV1Z9yV1CUa5e260CNwdzbJmafUZjQ4qxhK6tHa6YKlif6MzerO4XUpB4OkxUod7PeE0qGceIV\n",
       "13xOeWUJ1DMgq7F2HbNfusV7CXlHAexISnQsg98LYwipMAmh/av2KuCOK55lwSd92qgj9v53rdcd\n",
       "C72tFtv9KTsFy9IhJvJolSTvJwD+OKzkrwlt8julUHhU1Q/mHOmKtTpFY0s/nlX7Kwpvlw6BVZYM\n",
       "7qYAetOIlQkfcIURfbjDm+Q4t23OL28/33qaF4WVfhgbWeH9aEhzgqpMow0lLIPsHrNSmrq2isnm\n",
       "I9wLGpP10wIMi+I8dascHnQ72LkBOjvGX84uP4iqG0obHzVAfahJnINI+4Z0GoKuPtuQOQ/1qZC1\n",
       "jzdR6ZPfLkSLQIwjGy3YeDWlRcn/spywoUGqpCQtUHPPHUc+1Xv+j9otYKGRECrStfEH7QtcqpVg\n",
       "vXks/m6DBfvkR+SIjm6G7uVKGgQJP8VvNAJnv+H/XuCcCDQ+ItpjsGHPsE13e1mYXoaPv8L6SI4R\n",
       "361NhOp+2f5VPgGAAwhOuvMjoKPUT5wz157n47vey2GwW2OwSgjiMi5cP8z9MZlX2vYuBbhFC/Wl\n",
       "5NOT4YXr7nLzGo415cMif+dut405JI+F4V9tMlXIvvtxg9Mnz45nEbjtcvswtkdXVX0FhJWssiNR\n",
       "bGUdN5KZB30qy0Le0M8v2bsy73ERRNwstAY5G+iD60kHZNNCYcjemwaTvfUJL2bpg0gZN12RqVF6\n",
       "h1Q9Yyv8omMsTTpyTYXQ2RyfKRmlQu1Gi1PAZTosjcOYeJ4/c2nmRfw6ydEw7mIfIU+3/9D5uhUH\n",
       "/LOQtKoA2vhf/h6uagbAjC5ga9DRzTh70VjCMD9op0Feu2DikQPOQAv/TBks2jiGM8ZJGAYQTpBZ\n",
       "Y+hjcQO5CGawv4V+ZDsTVAJr6b2o9EKjx9xPGj+STazUcqY7mtGr1d3jdK7TpkQTHZDk+jc9ObCd\n",
       "RDq3hLBt2tSox0wwCVdoB1IpiwpLdWM0DVZ7/jo7DcRKYCDUK6WPAYNLnDnGkV7pc8N5cDwvabmu\n",
       "N5LTxMk/5hL5uZWW2PCZbPvl5vUzbaPiVkhI7s4HobT+eKpTdwSzIjAfwr8uI+tm1Z5UnXX0Uq26\n",
       "wNaJ+aZfKUHJswfnLMvwVWYA7meBUMs9yiS1JNOJx/sG+kDVrUzgm9H5WRjxMrNLzn9osyOdAahq\n",
       "5AHUeux4aBe/aLHeAeEtgP70ilN2TtiKz10edwwNX2RzuflYrDSs2rL2gcEH6p1pyVrrw0hUzrSA\n",
       "/gpUOSwkj5iASfF7IlupVLbczyQMR+WNKnTev19jc6S9Ia3KELNeZWrxKBKauLrA8x6WcmNS9ozo\n",
       "nUVfR7ZtuWV05uLMhWQyg7uMHR4nNZK3y2PsTbSPiGFzeu+S4O0I4ypnDbmAMMXyX1z66QRfwORi\n",
       "OuvimSw4RUHTU+jVKLnKe5Rce0EtbOib2931hir+lsFGoIIFY9T5l/cmIgaIvsn1YBYqigwdScAU\n",
       "LoqJCPCQ6JRLxpD3ZVntYauUS54U+Q/EDC/CyuiiW1v26lFT4ZjYXPqXPryNg14AFEmrIrOvWhV3\n",
       "jd36n+OO50M5AaE6o7yDDICRQc18sEXgeib+254UNSLzdanSe/E4i/hujPetKtDUeVLcv3x3k1hD\n",
       "tFS7od/bIbiWy23rDbKIEg2i5IprZfdQAoUYfBQ4eU0BeL9s2EBvMtNHVbiYMH0/NaBdu58qI97O\n",
       "lDtw3JFRvXnqXWeKhdhacG2fjEnVNGY4gLBtYaA9aPIkhzOpY+NMMIGeFZvVKVF7d6JKEMp+Z+1g\n",
       "kCHwE9gEjQSNATZt6LWw7WIkeKZ+4Q4tKdGyr+TfZnWWS5e5ou6uXDsCvGbM1HNRVOMRWhp/XnOE\n",
       "0618bcMXl1hjXz0Cpf246/CURhNsFrEH7h+6enD+p7yZjeBVNgcOn4DkFPFtI0tmi1S2RtRTHZdJ\n",
       "SUuNruJdaTxW2d3PTwa/lNj2OjoqMsNpvrChUyVnTjTd3FzbzxmjghFHo/iGCVBUWeqzBs73hpUP\n",
       "h7Y2WPDpv7F/AKLXKGrlJFfC72b77arZ2dbe54Rongro6wsPSUajUFY7JxJVbNCYAtHr/xgyJepp\n",
       "B9aW5loJDe6OtqSdYqQC+XzFWpNzfXDyXYaQUH64HdCuqqaMphbXP1JA+pebwQWvapoe8ASGgkP/\n",
       "3xzVjD+6KJf/wiDCM8HBBQVg8Fb90rwbVG2QmZL5ZcSkJIKnvkSq6vXqtyJ5IEtcWqgqWv0TbjVD\n",
       "VGMftRQb/tpIjHbWPW+iV7w5QfHq4s9LtNeSDqYhICxrrDGZyDtt+6NfyJr1qYOA6zkxf8HX8Jsi\n",
       "AGJqdag4T5fmZPKGa7P9ilCCVBr9vzOEDN3cZvl8eofJZaFaje8Q7h/h4jbHvwWLpzBWWUoKorRt\n",
       "0HHdNMxQagOgLIRpZzRh/pA255i1qU3750FvkpmaNBcp3hmFbaIXvIZonAY1x7NLHXcxXnmaxCKT\n",
       "0wPZkcErHPr670i5F0nDL72rksS2hH3ZKLtRHiL6k1OtrSLg8W3p1NkNqKscTQ50LwU1pJSKn6GC\n",
       "krhSiQQ+C6Rcdlxp8MNy9LQmsXtbjIO27BFFWHjFyoQ3UEm9DF0WJhzWiEIKzR74FeRIynhznbLc\n",
       "JKgwkdrr5veC4qt5GbKxTpSA42wAPWNvrFR6h1mg1Osc2yilLwLT4DcEPRgUY2YxbLVKpXK+QAFm\n",
       "YC0f3Wy27K3yXf7gC4eV7YSWzk/iScoHyFi2UlUB1MGXYKvhsV/prUW0xauWHAfjVW165eeZn9be\n",
       "UTfzgkB/7RwwqasUs2QiqiX5tm/hT+trdBaCh7SgoLO38OzM6d3QpVvu9C7RRxOgALa47ATIihiJ\n",
       "NpcDhoSn/Dx5+DTNTAytW5NvHlLOxNZXeK47wnck2Tc9eWxLBqdQbzRwU4XaeAb/AySPWeXf7Vk3\n",
       "icMv033jUARy47CicvNxkOPxGPrFAF6bLNb60C0feTDqY4AnHwSgSFDoqpkySQur4idsLOIG02av\n",
       "oN7kOoU1rLLfnY7eAXMvbwMNRVi6Hl8vKOUlmS6w/NAUqtrhMAxCErkFDxLfwvr24jaY127vnTqr\n",
       "8n7ZBe6t9jl2Z3KGlrarppoZWGISVjhhf5zGzxPKmzeZzJAF/Mn0bO92cK4IUgURXkog2PjpJXm+\n",
       "ArKKZroVs/kg0MfXfzFpEu8QRaezdmVgEOzDgiNsB7GdxjZC3xVF9Es3hwhi8FSx1JjuTMCU+0r2\n",
       "yzlHakv7ZpaDnq6JIsmWWtpefKazKX8fCcp5Hq2fdbDD9TZl4e5aFPyoCp4KVI4+4p68Mdmz3qiU\n",
       "6XHewtzjj1gnGlE9FF+mf5k+7TL8xYuLSaqSeKsBdbRj+7Auvb53nwiEmcmHJBU+63A1XsqzLebG\n",
       "4yT8doJDrC6aa1RQ2TPRrAsLoZWVGkkxfYG62b0zauTdOSq9Jv1SQNZXVUelfEMkMvM/vK0+JHUT\n",
       "OyC++eDj8M6YTueHK4MbnJ2aaP9mi3aFVYoF6qYFEikP22vQ63fsJ9AAsoFWMBtefOiw1gtHGlXd\n",
       "ZNssiK4iYBR4u4oE78QvfdyjYVgAAAMA1rS/F+4E9vTh58RUXFmm04b458k5GWKZEXvZQl5ZWGQP\n",
       "vqCojhijdJ2rd2lPOQBFpuEKTJD54xI2PYdNIKQ9d0X/CCRZCq/meNZslEiXnp7XQZWgkR4g7EAA\n",
       "AAYbbGfgAL0wwqInmldpdiyoQRQbeAqJDP6erY0SfFFq1r+39RAbgCiioqhOWXP02N5nADoNNCfv\n",
       "/F3j37FxTlJQiYCPUPzJ0yW7g2kI7ZrqJK11KEBOSrMnhfjO+yWVh8uLnD4OdR8ZzgQak3QJqm/P\n",
       "9hxazKXp/q7EIMEUA76LYgxTNxwFcDVIkMqlE5qVJwE5fwea5Ahzr9mYS6eyXp2s263AQU7l9T5n\n",
       "NwNsifvT9chHjivuuSuZK1oiHd3+GRFNyRPpNgZIyQ50YoIpHJSxMvUPUvP/8dRls+MzlejA09ZD\n",
       "LobPwar6qEjDOP0fxbCE2L+tUMlsF4rjaKxtPbaL5nFLboxIf3pBUzDfshgEOVfVcBS49cls8V7+\n",
       "ra9bSyZVsbBRtb5WQMiAB1QGiPjuEoUyTdaSfcG673/57HnpE7U3kyrOXOPCheHGLVnrW5Pc8ZcN\n",
       "m0iCeWyi+DeqoDbZllIOdBbAzBdTFnmfubCQbt0AXtOAu/iFq8LyTd98Qf2SZ9qP7fTEz35cAeuJ\n",
       "rAmLoJzZ1w5zhN14X/td+PkKyFw0fgAEuvDjpQ1k4VbwndaxXo4aoWiENCN1YgCQPRYX2rzlbtIL\n",
       "WWAuZnQj02AM5Kie98rwEiFpst50qPs+ui6HVlVp1UeJ/WdKHTNOL3yyJHAAA46LwudoIJd2a4zc\n",
       "z7Ywb5XWh2yOJfQTJRDQgQIBbps4DgUcrW3Svd+UWk7ZPb9b9aWEELDT7pNy6sYuoKOpnI7ZvVbW\n",
       "Z4JxGb/SGphAZq//J0KClKQFIEmh1nXxRRaFPUljIwdKnV2409UwM61UqwLjrXp7ygEmwi0cYKD3\n",
       "4a3yGPCQ2zic5LVxtOf+RmHd9qmubNw1v4pfb1YXCJWTOkRrMmSCLiKfiG3CzVv7r80g2H8mzKsn\n",
       "wchwjuBWeTswh77TMKR7+k5i/Rn2tFpmRYnSrryIS/S/HFtm4CJu3C+DWVghpC1WEClsS2gcdKpV\n",
       "HR5iaHHzPs9ydOtTsg9GriNgmW2yO36/2AJGjXh5zdPXoZ3lvevW0n1TTDcol5UAnrz3n5PCkh7W\n",
       "PjmRlzMO4f8b4p9b7L8E53jSaXyphtk6Sencs45WpSGUGtxBYvNRYHBV7I5UIll4Re5FG5kmuaif\n",
       "e2y17hiFymasSkgPYr6VFXOkflKJx8SXIDJSlKk0yu6c2VkSh4Ecc+EzkP+0o6mQTT6VqiN3LFQp\n",
       "I40Y4daob98iMHzxstOoXxjEh/oqTQfm/yctJZI5rU8/d3NSR+ha/29dhd2fH4txwDdfeSFuTJOk\n",
       "Sb5vcESfU0z+sx+5eP6ZRVVr1uZczoalpapGsz64Gr3SCL5RXsEKRXdr0O411pyhS/12+0z6245j\n",
       "gwqkB9X+DR1z7rLVU3WanGcuM8VnInAIeCR6Jn0N/P77qgBosIZ2PCTduA69oG6uiyDsrbijcHtY\n",
       "tkz67m3fWT/rxid24L+eYFG7sbdSJs8tCvvRfGp+0r/6wHaIFPIBMUgrme4v3B0tC+HpkoLLngO4\n",
       "ps2KHtO8UCb9OgtD+g2XuPgsFqVRlZLXfDSN+QPOlAAvjKAAAAMAACyhAAAApkGaJGxBH/61KoAA\n",
       "AYDI6gBqklZYt9Kex3uF/LNYA0TQvfi9Gwn8KMSPN4zTz32/C6X6HQCVbFjLjilZMSgLEDCYkYhG\n",
       "1vsGgfc83eAbHEoWgb0R/13ZL18oI4xT7taYUSOVJFsp3MT3gqZldYPCcxj6p47CIEjtLtgEzFvK\n",
       "IXAn0jTQYzA9ZDbP/KPv8kYld7RX8j683pyDGOIlxUqxYcYSuj4loeAAAAAeQZ5CeId/AAAF3MZs\n",
       "sXBkWynqTXaxQ1gpMDlgwKmBAAAAGAGeYXRDfwAAAwNf1fwTbIYAA30FRMxK6AAAABMBnmNqQ38A\n",
       "AAMAAAMAAgtevPSBAAAAHUGaaEmoQWiZTAgj//61KoAAAAMAAAMAYL4+bi8dAAAAGUGehkURLDv/\n",
       "AAADAnFKh5QAAw97YYQQQfEAAAAVAZ6ldEN/AAADAAADAAIK+0EenzjhAAAAEwGep2pDfwAAAwAA\n",
       "AwABdHoQnMAAAAAZQZqsSahBbJlMCCP//rUqgAAAAwAAAwADBgAAABZBnspFFSw7/wAAAwJxSoeU\n",
       "AAIbKrKnAAAAEwGe6XRDfwAAAwAAAwABdDvhWYAAAAATAZ7rakN/AAADAAADAAF0ehCcwAAAABlB\n",
       "mvBJqEFsmUwII//+tSqAAAADAAADAAMHAAAAFkGfDkUVLDv/AAADAnFKh5QAAhsqsqcAAAATAZ8t\n",
       "dEN/AAADAAADAAF0O+FZgQAAABMBny9qQ38AAAMAAAMAAXR6EJzAAAAAGUGbNEmoQWyZTAgj//61\n",
       "KoAAAAMAAAMAAwYAAAAWQZ9SRRUsO/8AAAMCcUqHlAACGyqypwAAABMBn3F0Q38AAAMAAAMAAXQ7\n",
       "4VmAAAAAEwGfc2pDfwAAAwAAAwABdHoQnMAAAAAZQZt4SahBbJlMCCP//rUqgAAAAwAAAwADBwAA\n",
       "ABZBn5ZFFSw7/wAAAwJxSoeUAAIbKrKnAAAAEwGftXRDfwAAAwAAAwABdDvhWYEAAAATAZ+3akN/\n",
       "AAADAAADAAF0ehCcwQAAABlBm7xJqEFsmUwII//+tSqAAAADAAADAAMGAAAAFkGf2kUVLDv/AAAD\n",
       "AnFKh5QAAhsqsqcAAAATAZ/5dEN/AAADAAADAAF0O+FZgAAAABMBn/tqQ38AAAMAAAMAAXR6EJzB\n",
       "AAAAGUGb4EmoQWyZTAgj//61KoAAAAMAAAMAAwcAAAAWQZ4eRRUsO/8AAAMCcUqHlAACGyqypwAA\n",
       "ABMBnj10Q38AAAMAAAMAAXQ74VmAAAAAEwGeP2pDfwAAAwAAAwABdHoQnMEAAAAZQZokSahBbJlM\n",
       "CCP//rUqgAAAAwAAAwADBgAAABZBnkJFFSw7/wAAAwJxSoeUAAIbKrKnAAAAEwGeYXRDfwAAAwAA\n",
       "AwABdDvhWYAAAAATAZ5jakN/AAADAAADAAF0ehCcwQAAABlBmmhJqEFsmUwII//+tSqAAAADAAAD\n",
       "AAMHAAAAFkGehkUVLDv/AAADAnFKh5QAAhsqsqcAAAATAZ6ldEN/AAADAAADAAF0O+FZgQAAABMB\n",
       "nqdqQ38AAAMAAAMAAXR6EJzAAAAAGUGarEmoQWyZTAgj//61KoAAAAMAAAMAAwYAAAAWQZ7KRRUs\n",
       "O/8AAAMCcUqHlAACGyqypwAAABMBnul0Q38AAAMAAAMAAXQ74VmAAAAAEwGe62pDfwAAAwAAAwAB\n",
       "dHoQnMAAAAAZQZrwSahBbJlMCCP//rUqgAAAAwAAAwADBwAAABZBnw5FFSw7/wAAAwJxSoeUAAIb\n",
       "KrKnAAAAEwGfLXRDfwAAAwAAAwABdDvhWYEAAAATAZ8vakN/AAADAAADAAF0ehCcwAAAABlBmzRJ\n",
       "qEFsmUwII//+tSqAAAADAAADAAMGAAAAFkGfUkUVLDv/AAADAnFKh5QAAhsqsqcAAAATAZ9xdEN/\n",
       "AAADAAADAAF0O+FZgAAAABMBn3NqQ38AAAMAAAMAAXR6EJzAAAAAGUGbeEmoQWyZTAgj//61KoAA\n",
       "AAMAAAMAAwcAAAAWQZ+WRRUsO/8AAAMCcUqHlAACGyqypwAAABMBn7V0Q38AAAMAAAMAAXQ74VmB\n",
       "AAAAEwGft2pDfwAAAwAAAwABdHoQnMEAAAAZQZu8SahBbJlMCCP//rUqgAAAAwAAAwADBgAAABZB\n",
       "n9pFFSw7/wAAAwJxSoeUAAIbKrKnAAAAEwGf+XRDfwAAAwAAAwABdDvhWYAAAAATAZ/7akN/AAAD\n",
       "AAADAAF0ehCcwQAAABlBm+BJqEFsmUwII//+tSqAAAADAAADAAMHAAAAFkGeHkUVLDv/AAADAnFK\n",
       "h5QAAhsqsqcAAAATAZ49dEN/AAADAAADAAF0O+FZgAAAABMBnj9qQ38AAAMAAAMAAXR6EJzBAAAA\n",
       "GUGaJEmoQWyZTAgj//61KoAAAAMAAAMAAwYAAAAWQZ5CRRUsO/8AAAMCcUqHlAACGyqypwAAABMB\n",
       "nmF0Q38AAAMAAAMAAXQ74VmAAAAAEwGeY2pDfwAAAwAAAwABdHoQnMEAAAAZQZpoSahBbJlMCCP/\n",
       "/rUqgAAAAwAAAwADBwAAABZBnoZFFSw7/wAAAwJxSoeUAAIbKrKnAAAAEwGepXRDfwAAAwAAAwAB\n",
       "dDvhWYEAAAATAZ6nakN/AAADAAADAAF0ehCcwAAAABlBmqxJqEFsmUwII//+tSqAAAADAAADAAMG\n",
       "AAAAFkGeykUVLDv/AAADAnFKh5QAAhsqsqcAAAATAZ7pdEN/AAADAAADAAF0O+FZgAAAABMBnutq\n",
       "Q38AAAMAAAMAAXR6EJzAAAAAGUGa8EmoQWyZTAgj//61KoAAAAMAAAMAAwcAAAAWQZ8ORRUsO/8A\n",
       "AAMCcUqHlAACGyqypwAAABMBny10Q38AAAMAAAMAAXQ74VmBAAAAEwGfL2pDfwAAAwAAAwABdHoQ\n",
       "nMAAAAAZQZs0SahBbJlMCCP//rUqgAAAAwAAAwADBgAAABZBn1JFFSw7/wAAAwJxSoeUAAIbKrKn\n",
       "AAAAEwGfcXRDfwAAAwAAAwABdDvhWYAAAAATAZ9zakN/AAADAAADAAF0ehCcwAAAABlBm3hJqEFs\n",
       "mUwII//+tSqAAAADAAADAAMHAAAAFkGflkUVLDv/AAADAnFKh5QAAhsqsqcAAAATAZ+1dEN/AAAD\n",
       "AAADAAF0O+FZgQAAABMBn7dqQ38AAAMAAAMAAXR6EJzBAAAAGUGbvEmoQWyZTAgj//61KoAAAAMA\n",
       "AAMAAwYAAAAWQZ/aRRUsO/8AAAMCcUqHlAACGyqypwAAABMBn/l0Q38AAAMAAAMAAXQ74VmAAAAA\n",
       "EwGf+2pDfwAAAwAAAwABdHoQnMEAAAAZQZvgSahBbJlMCCP//rUqgAAAAwAAAwADBwAAABZBnh5F\n",
       "FSw7/wAAAwJxSoeUAAIbKrKnAAAAEwGePXRDfwAAAwAAAwABdDvhWYAAAAATAZ4/akN/AAADAAAD\n",
       "AAF0ehCcwQAAABlBmiRJqEFsmUwII//+tSqAAAADAAADAAMGAAAAFkGeQkUVLDv/AAADAnFKh5QA\n",
       "AhsqsqcAAAATAZ5hdEN/AAADAAADAAF0O+FZgAAAABMBnmNqQ38AAAMAAAMAAXR6EJzBAAAAGUGa\n",
       "aEmoQWyZTAgj//61KoAAAAMAAAMAAwcAAAAWQZ6GRRUsO/8AAAMCcUqHlAACGyqypwAAABMBnqV0\n",
       "Q38AAAMAAAMAAXQ74VmBAAAAEwGep2pDfwAAAwAAAwABdHoQnMAAAAAZQZqsSahBbJlMCCP//rUq\n",
       "gAAAAwAAAwADBgAAABZBnspFFSw7/wAAAwJxSoeUAAIbKrKnAAAAEwGe6XRDfwAAAwAAAwABdDvh\n",
       "WYAAAAATAZ7rakN/AAADAAADAAF0ehCcwAAAABlBmvBJqEFsmUwII//+tSqAAAADAAADAAMHAAAA\n",
       "FkGfDkUVLDv/AAADAnFKh5QAAhsqsqcAAAATAZ8tdEN/AAADAAADAAF0O+FZgQAAABMBny9qQ38A\n",
       "AAMAAAMAAXR6EJzAAAAAGUGbNEmoQWyZTAgj//61KoAAAAMAAAMAAwYAAAAWQZ9SRRUsO/8AAAMC\n",
       "cUqHlAACGyqypwAAABMBn3F0Q38AAAMAAAMAAXQ74VmAAAAAEwGfc2pDfwAAAwAAAwABdHoQnMAA\n",
       "AAAZQZt4SahBbJlMCCP//rUqgAAAAwAAAwADBwAAABZBn5ZFFSw7/wAAAwJxSoeUAAIbKrKnAAAA\n",
       "EwGftXRDfwAAAwAAAwABdDvhWYEAAAATAZ+3akN/AAADAAADAAF0ehCcwQAAABlBm7xJqEFsmUwI\n",
       "I//+tSqAAAADAAADAAMGAAAAFkGf2kUVLDv/AAADAnFKh5QAAhsqsqcAAAATAZ/5dEN/AAADAAAD\n",
       "AAF0O+FZgAAAABMBn/tqQ38AAAMAAAMAAXR6EJzBAAAAGUGb4EmoQWyZTAgj//61KoAAAAMAAAMA\n",
       "AwcAAAAWQZ4eRRUsO/8AAAMCcUqHlAACGyqypwAAABMBnj10Q38AAAMAAAMAAXQ74VmAAAAAEwGe\n",
       "P2pDfwAAAwAAAwABdHoQnMEAAAAZQZokSahBbJlMCCP//rUqgAAAAwAAAwADBgAAABZBnkJFFSw7\n",
       "/wAAAwJxSoeUAAIbKrKnAAAAEwGeYXRDfwAAAwAAAwABdDvhWYAAAAATAZ5jakN/AAADAAADAAF0\n",
       "ehCcwQAAABlBmmhJqEFsmUwII//+tSqAAAADAAADAAMHAAAAFkGehkUVLDv/AAADAnFKh5QAAhsq\n",
       "sqcAAAATAZ6ldEN/AAADAAADAAF0O+FZgQAAABMBnqdqQ38AAAMAAAMAAXR6EJzAAAAAGUGarEmo\n",
       "QWyZTAgj//61KoAAAAMAAAMAAwYAAAAWQZ7KRRUsO/8AAAMCcUqHlAACGyqypwAAABMBnul0Q38A\n",
       "AAMAAAMAAXQ74VmAAAAAEwGe62pDfwAAAwAAAwABdHoQnMAAAAAZQZrwSahBbJlMCCP//rUqgAAA\n",
       "AwAAAwADBwAAABZBnw5FFSw7/wAAAwJxSoeUAAIbKrKnAAAAEwGfLXRDfwAAAwAAAwABdDvhWYEA\n",
       "AAATAZ8vakN/AAADAAADAAF0ehCcwAAAABlBmzRJqEFsmUwII//+tSqAAAADAAADAAMGAAAAFkGf\n",
       "UkUVLDv/AAADAnFKh5QAAhsqsqcAAAATAZ9xdEN/AAADAAADAAF0O+FZgAAAABMBn3NqQ38AAAMA\n",
       "AAMAAXR6EJzAAAAAGUGbeEmoQWyZTAgj//61KoAAAAMAAAMAAwcAAAAWQZ+WRRUsO/8AAAMCcUqH\n",
       "lAACGyqypwAAABMBn7V0Q38AAAMAAAMAAXQ74VmBAAAAEwGft2pDfwAAAwAAAwABdHoQnMEAAAAZ\n",
       "QZu8SahBbJlMCCP//rUqgAAAAwAAAwADBgAAABZBn9pFFSw7/wAAAwJxSoeUAAIbKrKnAAAAEwGf\n",
       "+XRDfwAAAwAAAwABdDvhWYAAAAATAZ/7akN/AAADAAADAAF0ehCcwQAAABlBm+BJqEFsmUwII//+\n",
       "tSqAAAADAAADAAMHAAAAFkGeHkUVLDv/AAADAnFKh5QAAhsqsqcAAAATAZ49dEN/AAADAAADAAF0\n",
       "O+FZgAAAABMBnj9qQ38AAAMAAAMAAXR6EJzBAAAAGUGaJEmoQWyZTAgj//61KoAAAAMAAAMAAwYA\n",
       "AAAWQZ5CRRUsO/8AAAMCcUqHlAACGyqypwAAABMBnmF0Q38AAAMAAAMAAXQ74VmAAAAAEwGeY2pD\n",
       "fwAAAwAAAwABdHoQnMEAAAAZQZpoSahBbJlMCCP//rUqgAAAAwAAAwADBwAAABZBnoZFFSw7/wAA\n",
       "AwJxSoeUAAIbKrKnAAAAEwGepXRDfwAAAwAAAwABdDvhWYEAAAATAZ6nakN/AAADAAADAAF0ehCc\n",
       "wAAAABlBmqxJqEFsmUwII//+tSqAAAADAAADAAMGAAAAFkGeykUVLDv/AAADAnFKh5QAAhsqsqcA\n",
       "AAATAZ7pdEN/AAADAAADAAF0O+FZgAAAABMBnutqQ38AAAMAAAMAAXR6EJzAAAAAGUGa8EmoQWyZ\n",
       "TAgj//61KoAAAAMAAAMAAwcAAAAWQZ8ORRUsO/8AAAMCcUqHlAACGyqypwAAABMBny10Q38AAAMA\n",
       "AAMAAXQ74VmBAAAAEwGfL2pDfwAAAwAAAwABdHoQnMAAAAAZQZs0SahBbJlMCCP//rUqgAAAAwAA\n",
       "AwADBgAAABZBn1JFFSw7/wAAAwJxSoeUAAIbKrKnAAAAEwGfcXRDfwAAAwAAAwABdDvhWYAAAAAT\n",
       "AZ9zakN/AAADAAADAAF0ehCcwAAAABlBm3hJqEFsmUwII//+tSqAAAADAAADAAMHAAAAFkGflkUV\n",
       "LDv/AAADAnFKh5QAAhsqsqcAAAATAZ+1dEN/AAADAAADAAF0O+FZgQAAABMBn7dqQ38AAAMAAAMA\n",
       "AXR6EJzBAAAAGUGbvEmoQWyZTAgj//61KoAAAAMAAAMAAwYAAAAWQZ/aRRUsO/8AAAMCcUqHlAAC\n",
       "GyqypwAAABMBn/l0Q38AAAMAAAMAAXQ74VmAAAAAEwGf+2pDfwAAAwAAAwABdHoQnMEAAAAZQZvg\n",
       "SahBbJlMCCP//rUqgAAAAwAAAwADBwAAABZBnh5FFSw7/wAAAwJxSoeUAAIbKrKnAAAAEwGePXRD\n",
       "fwAAAwAAAwABdDvhWYAAAAATAZ4/akN/AAADAAADAAF0ehCcwQAAABlBmiRJqEFsmUwII//+tSqA\n",
       "AAADAAADAAMGAAAAFkGeQkUVLDv/AAADAnFKh5QAAhsqsqcAAAATAZ5hdEN/AAADAAADAAF0O+FZ\n",
       "gAAAABMBnmNqQ38AAAMAAAMAAXR6EJzBAAAAGUGaaEmoQWyZTAgj//61KoAAAAMAAAMAAwcAAAAW\n",
       "QZ6GRRUsO/8AAAMCcUqHlAACGyqypwAAABMBnqV0Q38AAAMAAAMAAXQ74VmBAAAAEwGep2pDfwAA\n",
       "AwAAAwABdHoQnMAAAAAZQZqsSahBbJlMCCP//rUqgAAAAwAAAwADBgAAABZBnspFFSw7/wAAAwJx\n",
       "SoeUAAIbKrKnAAAAEwGe6XRDfwAAAwAAAwABdDvhWYAAAAATAZ7rakN/AAADAAADAAF0ehCcwAAA\n",
       "ABlBmvBJqEFsmUwII//+tSqAAAADAAADAAMHAAAAFkGfDkUVLDv/AAADAnFKh5QAAhsqsqcAAAAT\n",
       "AZ8tdEN/AAADAAADAAF0O+FZgQAAABMBny9qQ38AAAMAAAMAAXR6EJzAAAAAGUGbNEmoQWyZTAgj\n",
       "//61KoAAAAMAAAMAAwYAAAAWQZ9SRRUsO/8AAAMCcUqHlAACGyqypwAAABMBn3F0Q38AAAMAAAMA\n",
       "AXQ74VmAAAAAEwGfc2pDfwAAAwAAAwABdHoQnMAAAAAZQZt4SahBbJlMCCP//rUqgAAAAwAAAwAD\n",
       "BwAAABZBn5ZFFSw7/wAAAwJxSoeUAAIbKrKnAAAAEwGftXRDfwAAAwAAAwABdDvhWYEAAAATAZ+3\n",
       "akN/AAADAAADAAF0ehCcwQAAABlBm7xJqEFsmUwII//+tSqAAAADAAADAAMGAAAAFkGf2kUVLDv/\n",
       "AAADAnFKh5QAAhsqsqcAAAATAZ/5dEN/AAADAAADAAF0O+FZgAAAABMBn/tqQ38AAAMAAAMAAXR6\n",
       "EJzBAAAAGUGb4EmoQWyZTAgj//61KoAAAAMAAAMAAwcAAAAWQZ4eRRUsO/8AAAMCcUqHlAACGyqy\n",
       "pwAAABMBnj10Q38AAAMAAAMAAXQ74VmAAAAAEwGeP2pDfwAAAwAAAwABdHoQnMEAAAAZQZokSahB\n",
       "bJlMCCP//rUqgAAAAwAAAwADBgAAABZBnkJFFSw7/wAAAwJxSoeUAAIbKrKnAAAAEwGeYXRDfwAA\n",
       "AwAAAwABdDvhWYAAAAATAZ5jakN/AAADAAADAAF0ehCcwQAAABlBmmhJqEFsmUwII//+tSqAAAAD\n",
       "AAADAAMHAAAAFkGehkUVLDv/AAADAnFKh5QAAhsqsqcAAAATAZ6ldEN/AAADAAADAAF0O+FZgQAA\n",
       "ABMBnqdqQ38AAAMAAAMAAXR6EJzAAAAAGUGarEmoQWyZTAgj//61KoAAAAMAAAMAAwYAAAAWQZ7K\n",
       "RRUsO/8AAAMCcUqHlAACGyqypwAAABMBnul0Q38AAAMAAAMAAXQ74VmAAAAAEwGe62pDfwAAAwAA\n",
       "AwABdHoQnMAAAAAZQZrwSahBbJlMCCP//rUqgAAAAwAAAwADBwAAABZBnw5FFSw7/wAAAwJxSoeU\n",
       "AAIbKrKnAAAAEwGfLXRDfwAAAwAAAwABdDvhWYEAAAATAZ8vakN/AAADAAADAAF0ehCcwAAAABlB\n",
       "mzRJqEFsmUwIIf/+qlUAAAMAAAMAAAYMAAAAFkGfUkUVLDv/AAADAnFKh5QAAhsqsqcAAAATAZ9x\n",
       "dEN/AAADAAADAAF0O+FZgAAAABMBn3NqQ38AAAMAAAMAAXR6EJzAAAAAGUGbeEmoQWyZTAh3//6p\n",
       "lgAAAwAAAwAAF5EAAAAWQZ+WRRUsO/8AAAMCcUqHlAACGyqypwAAABMBn7V0Q38AAAMAAAMAAXQ7\n",
       "4VmBAAAAEwGft2pDfwAAAwAAAwABdHoQnMEAAAAZQZu5SahBbJlMCG///qeEAAADAAADAAAu4AAA\n",
       "DuZtb292AAAAbG12aGQAAAAAAAAAAAAAAAAAAAPoAABhqAABAAABAAAAAAAAAAAAAAAAAQAAAAAA\n",
       "AAAAAAAAAAAAAAEAAAAAAAAAAAAAAAAAAEAAAAAAAAAAAAAAAAAAAAAAAAAAAAAAAAAAAAAAAAAC\n",
       "AAAOEHRyYWsAAABcdGtoZAAAAAMAAAAAAAAAAAAAAAEAAAAAAABhqAAAAAAAAAAAAAAAAAAAAAAA\n",
       "AQAAAAAAAAAAAAAAAAAAAAEAAAAAAAAAAAAAAAAAAEAAAAACMAAAAjAAAAAAACRlZHRzAAAAHGVs\n",
       "c3QAAAAAAAAAAQAAYagAAAgAAAEAAAAADYhtZGlhAAAAIG1kaGQAAAAAAAAAAAAAAAAAACgAAAPo\n",
       "AFXEAAAAAAAtaGRscgAAAAAAAAAAdmlkZQAAAAAAAAAAAAAAAFZpZGVvSGFuZGxlcgAAAA0zbWlu\n",
       "ZgAAABR2bWhkAAAAAQAAAAAAAAAAAAAAJGRpbmYAAAAcZHJlZgAAAAAAAAABAAAADHVybCAAAAAB\n",
       "AAAM83N0YmwAAACzc3RzZAAAAAAAAAABAAAAo2F2YzEAAAAAAAAAAQAAAAAAAAAAAAAAAAAAAAAC\n",
       "MAIwAEgAAABIAAAAAAAAAAEAAAAAAAAAAAAAAAAAAAAAAAAAAAAAAAAAAAAAAAAAAAAY//8AAAAx\n",
       "YXZjQwFkABb/4QAYZ2QAFqzZQIwR6EAAAAMAQAAABQPFi2WAAQAGaOvjyyLAAAAAHHV1aWRraEDy\n",
       "XyRPxbo5pRvPAyPzAAAAAAAAABhzdHRzAAAAAAAAAAEAAAD6AAAEAAAAABRzdHNzAAAAAAAAAAEA\n",
       "AAABAAAH4GN0dHMAAAAAAAAA+gAAAAEAAAgAAAAAAQAAFAAAAAABAAAIAAAAAAEAAAAAAAAAAQAA\n",
       "BAAAAAABAAAUAAAAAAEAAAgAAAAAAQAAAAAAAAABAAAEAAAAAAEAABQAAAAAAQAACAAAAAABAAAA\n",
       "AAAAAAEAAAQAAAAAAQAAFAAAAAABAAAIAAAAAAEAAAAAAAAAAQAABAAAAAABAAAUAAAAAAEAAAgA\n",
       "AAAAAQAAAAAAAAABAAAEAAAAAAEAABQAAAAAAQAACAAAAAABAAAAAAAAAAEAAAQAAAAAAQAAFAAA\n",
       "AAABAAAIAAAAAAEAAAAAAAAAAQAABAAAAAABAAAUAAAAAAEAAAgAAAAAAQAAAAAAAAABAAAEAAAA\n",
       "AAEAABQAAAAAAQAACAAAAAABAAAAAAAAAAEAAAQAAAAAAQAAFAAAAAABAAAIAAAAAAEAAAAAAAAA\n",
       "AQAABAAAAAABAAAUAAAAAAEAAAgAAAAAAQAAAAAAAAABAAAEAAAAAAEAABQAAAAAAQAACAAAAAAB\n",
       "AAAAAAAAAAEAAAQAAAAAAQAAFAAAAAABAAAIAAAAAAEAAAAAAAAAAQAABAAAAAABAAAUAAAAAAEA\n",
       "AAgAAAAAAQAAAAAAAAABAAAEAAAAAAEAABQAAAAAAQAACAAAAAABAAAAAAAAAAEAAAQAAAAAAQAA\n",
       "FAAAAAABAAAIAAAAAAEAAAAAAAAAAQAABAAAAAABAAAUAAAAAAEAAAgAAAAAAQAAAAAAAAABAAAE\n",
       "AAAAAAEAABQAAAAAAQAACAAAAAABAAAAAAAAAAEAAAQAAAAAAQAAFAAAAAABAAAIAAAAAAEAAAAA\n",
       "AAAAAQAABAAAAAABAAAUAAAAAAEAAAgAAAAAAQAAAAAAAAABAAAEAAAAAAEAABQAAAAAAQAACAAA\n",
       "AAABAAAAAAAAAAEAAAQAAAAAAQAAFAAAAAABAAAIAAAAAAEAAAAAAAAAAQAABAAAAAABAAAUAAAA\n",
       "AAEAAAgAAAAAAQAAAAAAAAABAAAEAAAAAAEAABQAAAAAAQAACAAAAAABAAAAAAAAAAEAAAQAAAAA\n",
       "AQAAFAAAAAABAAAIAAAAAAEAAAAAAAAAAQAABAAAAAABAAAUAAAAAAEAAAgAAAAAAQAAAAAAAAAB\n",
       "AAAEAAAAAAEAABQAAAAAAQAACAAAAAABAAAAAAAAAAEAAAQAAAAAAQAAFAAAAAABAAAIAAAAAAEA\n",
       "AAAAAAAAAQAABAAAAAABAAAUAAAAAAEAAAgAAAAAAQAAAAAAAAABAAAEAAAAAAEAABQAAAAAAQAA\n",
       "CAAAAAABAAAAAAAAAAEAAAQAAAAAAQAAFAAAAAABAAAIAAAAAAEAAAAAAAAAAQAABAAAAAABAAAU\n",
       "AAAAAAEAAAgAAAAAAQAAAAAAAAABAAAEAAAAAAEAABQAAAAAAQAACAAAAAABAAAAAAAAAAEAAAQA\n",
       "AAAAAQAAFAAAAAABAAAIAAAAAAEAAAAAAAAAAQAABAAAAAABAAAUAAAAAAEAAAgAAAAAAQAAAAAA\n",
       "AAABAAAEAAAAAAEAABQAAAAAAQAACAAAAAABAAAAAAAAAAEAAAQAAAAAAQAAFAAAAAABAAAIAAAA\n",
       "AAEAAAAAAAAAAQAABAAAAAABAAAUAAAAAAEAAAgAAAAAAQAAAAAAAAABAAAEAAAAAAEAABQAAAAA\n",
       "AQAACAAAAAABAAAAAAAAAAEAAAQAAAAAAQAAFAAAAAABAAAIAAAAAAEAAAAAAAAAAQAABAAAAAAB\n",
       "AAAUAAAAAAEAAAgAAAAAAQAAAAAAAAABAAAEAAAAAAEAABQAAAAAAQAACAAAAAABAAAAAAAAAAEA\n",
       "AAQAAAAAAQAAFAAAAAABAAAIAAAAAAEAAAAAAAAAAQAABAAAAAABAAAUAAAAAAEAAAgAAAAAAQAA\n",
       "AAAAAAABAAAEAAAAAAEAABQAAAAAAQAACAAAAAABAAAAAAAAAAEAAAQAAAAAAQAAFAAAAAABAAAI\n",
       "AAAAAAEAAAAAAAAAAQAABAAAAAABAAAUAAAAAAEAAAgAAAAAAQAAAAAAAAABAAAEAAAAAAEAABQA\n",
       "AAAAAQAACAAAAAABAAAAAAAAAAEAAAQAAAAAAQAAFAAAAAABAAAIAAAAAAEAAAAAAAAAAQAABAAA\n",
       "AAABAAAUAAAAAAEAAAgAAAAAAQAAAAAAAAABAAAEAAAAAAEAABQAAAAAAQAACAAAAAABAAAAAAAA\n",
       "AAEAAAQAAAAAAQAAFAAAAAABAAAIAAAAAAEAAAAAAAAAAQAABAAAAAABAAAUAAAAAAEAAAgAAAAA\n",
       "AQAAAAAAAAABAAAEAAAAAAEAABQAAAAAAQAACAAAAAABAAAAAAAAAAEAAAQAAAAAAQAAFAAAAAAB\n",
       "AAAIAAAAAAEAAAAAAAAAAQAABAAAAAABAAAUAAAAAAEAAAgAAAAAAQAAAAAAAAABAAAEAAAAAAEA\n",
       "ABQAAAAAAQAACAAAAAABAAAAAAAAAAEAAAQAAAAAAQAAFAAAAAABAAAIAAAAAAEAAAAAAAAAAQAA\n",
       "BAAAAAABAAAUAAAAAAEAAAgAAAAAAQAAAAAAAAABAAAEAAAAAAEAABQAAAAAAQAACAAAAAABAAAA\n",
       "AAAAAAEAAAQAAAAAAQAAFAAAAAABAAAIAAAAAAEAAAAAAAAAAQAABAAAAAABAAAUAAAAAAEAAAgA\n",
       "AAAAAQAAAAAAAAABAAAEAAAAAAEAAAgAAAAAHHN0c2MAAAAAAAAAAQAAAAEAAAD6AAAAAQAAA/xz\n",
       "dHN6AAAAAAAAAAAAAAD6AAAf1QAAAKoAAAAiAAAAHAAAABcAAAAhAAAAHQAAABkAAAAXAAAAHQAA\n",
       "ABoAAAAXAAAAFwAAAB0AAAAaAAAAFwAAABcAAAAdAAAAGgAAABcAAAAXAAAAHQAAABoAAAAXAAAA\n",
       "FwAAAB0AAAAaAAAAFwAAABcAAAAdAAAAGgAAABcAAAAXAAAAHQAAABoAAAAXAAAAFwAAAB0AAAAa\n",
       "AAAAFwAAABcAAAAdAAAAGgAAABcAAAAXAAAAHQAAABoAAAAXAAAAFwAAAB0AAAAaAAAAFwAAABcA\n",
       "AAAdAAAAGgAAABcAAAAXAAAAHQAAABoAAAAXAAAAFwAAAB0AAAAaAAAAFwAAABcAAAAdAAAAGgAA\n",
       "ABcAAAAXAAAAHQAAABoAAAAXAAAAFwAAAB0AAAAaAAAAFwAAABcAAAAdAAAAGgAAABcAAAAXAAAA\n",
       "HQAAABoAAAAXAAAAFwAAAB0AAAAaAAAAFwAAABcAAAAdAAAAGgAAABcAAAAXAAAAHQAAABoAAAAX\n",
       "AAAAFwAAAB0AAAAaAAAAFwAAABcAAAAdAAAAGgAAABcAAAAXAAAAHQAAABoAAAAXAAAAFwAAAB0A\n",
       "AAAaAAAAFwAAABcAAAAdAAAAGgAAABcAAAAXAAAAHQAAABoAAAAXAAAAFwAAAB0AAAAaAAAAFwAA\n",
       "ABcAAAAdAAAAGgAAABcAAAAXAAAAHQAAABoAAAAXAAAAFwAAAB0AAAAaAAAAFwAAABcAAAAdAAAA\n",
       "GgAAABcAAAAXAAAAHQAAABoAAAAXAAAAFwAAAB0AAAAaAAAAFwAAABcAAAAdAAAAGgAAABcAAAAX\n",
       "AAAAHQAAABoAAAAXAAAAFwAAAB0AAAAaAAAAFwAAABcAAAAdAAAAGgAAABcAAAAXAAAAHQAAABoA\n",
       "AAAXAAAAFwAAAB0AAAAaAAAAFwAAABcAAAAdAAAAGgAAABcAAAAXAAAAHQAAABoAAAAXAAAAFwAA\n",
       "AB0AAAAaAAAAFwAAABcAAAAdAAAAGgAAABcAAAAXAAAAHQAAABoAAAAXAAAAFwAAAB0AAAAaAAAA\n",
       "FwAAABcAAAAdAAAAGgAAABcAAAAXAAAAHQAAABoAAAAXAAAAFwAAAB0AAAAaAAAAFwAAABcAAAAd\n",
       "AAAAGgAAABcAAAAXAAAAHQAAABoAAAAXAAAAFwAAAB0AAAAaAAAAFwAAABcAAAAdAAAAGgAAABcA\n",
       "AAAXAAAAHQAAABoAAAAXAAAAFwAAAB0AAAAaAAAAFwAAABcAAAAdAAAAGgAAABcAAAAXAAAAHQAA\n",
       "ABoAAAAXAAAAFwAAAB0AAAAaAAAAFwAAABcAAAAdAAAAGgAAABcAAAAXAAAAHQAAABRzdGNvAAAA\n",
       "AAAAAAEAAAAsAAAAYnVkdGEAAABabWV0YQAAAAAAAAAhaGRscgAAAAAAAAAAbWRpcmFwcGwAAAAA\n",
       "AAAAAAAAAAAtaWxzdAAAACWpdG9vAAAAHWRhdGEAAAABAAAAAExhdmY1OC4yMC4xMDA=\n",
       "\">\n",
       "  Your browser does not support the video tag.\n",
       "</video>"
      ],
      "text/plain": [
       "<matplotlib.animation.FuncAnimation at 0x119ebf630>"
      ]
     },
     "execution_count": 5,
     "metadata": {},
     "output_type": "execute_result"
    }
   ],
   "source": [
    "resulting_animation"
   ]
  },
  {
   "cell_type": "code",
   "execution_count": null,
   "metadata": {},
   "outputs": [],
   "source": [
    "Writer = animation.writers['ffmpeg']\n",
    "writer = Writer(fps=15, metadata=dict(artist='Me'), bitrate=1800)\n",
    "resulting_animation.save('ada_animation.mp4', writer=writer)"
   ]
  },
  {
   "cell_type": "markdown",
   "metadata": {},
   "source": [
    "<h6>Adam</h6>"
   ]
  },
  {
   "cell_type": "code",
   "execution_count": null,
   "metadata": {},
   "outputs": [],
   "source": [
    "import numpy as np\n",
    "import math\n",
    "from numpy.random import random, randn\n",
    "from matplotlib import pyplot as plt, animation, rcParams, rc\n",
    "\n",
    "\n",
    "def linear_function(alpha,beta,x): return alpha+beta*x\n",
    "rc('animation',html='html5')\n",
    "rcParams['figure.figsize'] = 3, 3\n",
    "\n",
    "beta_true = 6.0\n",
    "alpha_true = 3.0\n",
    "n = 30\n",
    "x = random(n)\n",
    "y = linear_function(alpha_true,beta_true,x)+0.2*randn(n)\n",
    "beta = -1.\n",
    "alpha = 3.\n",
    "learning_rate = 0.01\n",
    "\n",
    "#step size\n",
    "epsilon=0.001\n",
    "#p1,p1\n",
    "p1 = 0.9\n",
    "p2 = 0.999\n",
    "delta = 10**(-8)\n",
    "s_alpha=0\n",
    "s_beta=0\n",
    "r_alpha=0\n",
    "r_beta=0\n"
   ]
  },
  {
   "cell_type": "code",
   "execution_count": null,
   "metadata": {},
   "outputs": [],
   "source": [
    "def update_alpha_and_beta():\n",
    "    global s_alpha, s_beta,r_alpha,r_beta, alpha,beta\n",
    "    for t in range(10):\n",
    "        for i in range(n):\n",
    "            y_predicted = linear_function(alpha,beta,x[i])\n",
    "            g_alpha  = (2/n)*(y_predicted-y[i])\n",
    "            g_beta = x[i] * g_alpha\n",
    "        #accumulate squared gradient\n",
    "        t+=1\n",
    "        s_alpha = p1*s_alpha + (1-p1)*g_alpha\n",
    "        s_beta = p1*s_beta + (1-p1)*g_beta\n",
    "        r_alpha = p2*r_alpha + (1-p2)*np.multiply(g_alpha,g_alpha)\n",
    "        r_beta = p2*r_beta + (1-p2)*np.multiply(g_beta,g_beta)\n",
    "        s_hat_alpha = s_alpha/(1-p1**t) \n",
    "        s_hat_beta =  s_beta/(1-p1**t)\n",
    "        r_hat_alpha = r_alpha/(1-p2**t)\n",
    "        r_hat_beta = r_beta/(1-p2**t)\n",
    "        delta_alpha = -epsilon*s_hat_alpha/(math.sqrt(r_hat_alpha)+delta) \n",
    "        delta_beta = -epsilon*s_hat_beta/(math.sqrt(r_hat_beta)+delta) \n",
    "        alpha += delta_alpha\n",
    "        beta += delta_beta\n",
    "    \n",
    "def animate(i):\n",
    "    x = np.linspace(0,1,100)\n",
    "    y = linear_function(alpha,beta,x)\n",
    "    line.set_data(x,y)\n",
    "    for i in range(20): \n",
    "        update_alpha_and_beta()\n",
    "    return (line,)"
   ]
  },
  {
   "cell_type": "code",
   "execution_count": null,
   "metadata": {},
   "outputs": [],
   "source": [
    "fig = plt.figure(dpi=80,figsize=(7,7))\n",
    "ax = fig.add_subplot(111)\n",
    "ax.set_xlim((0,1))\n",
    "ax.set_ylim((-2,15))\n",
    "plt.scatter(x,y)\n",
    "line, = ax.plot([],[],lw=2)"
   ]
  },
  {
   "cell_type": "code",
   "execution_count": null,
   "metadata": {},
   "outputs": [],
   "source": [
    "resulting_animation = animation.FuncAnimation(fig,animate,np.arange(0,250),interval=100)"
   ]
  },
  {
   "cell_type": "code",
   "execution_count": null,
   "metadata": {},
   "outputs": [],
   "source": [
    "resulting_animation"
   ]
  },
  {
   "cell_type": "code",
   "execution_count": null,
   "metadata": {},
   "outputs": [],
   "source": [
    "Writer = animation.writers['ffmpeg']\n",
    "writer = Writer(fps=15, metadata=dict(artist='Me'), bitrate=1800)\n",
    "resulting_animation.save('adam_animation.mp4', writer=writer)"
   ]
  }
 ],
 "metadata": {
  "kernelspec": {
   "display_name": "Python 3",
   "language": "python",
   "name": "python3"
  },
  "language_info": {
   "codemirror_mode": {
    "name": "ipython",
    "version": 3
   },
   "file_extension": ".py",
   "mimetype": "text/x-python",
   "name": "python",
   "nbconvert_exporter": "python",
   "pygments_lexer": "ipython3",
   "version": "3.7.3"
  }
 },
 "nbformat": 4,
 "nbformat_minor": 2
}
