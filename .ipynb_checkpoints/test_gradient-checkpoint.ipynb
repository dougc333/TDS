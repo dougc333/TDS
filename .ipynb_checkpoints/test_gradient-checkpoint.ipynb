{
 "cells": [
  {
   "cell_type": "code",
   "execution_count": 1,
   "metadata": {},
   "outputs": [],
   "source": [
    "import numpy as np\n",
    "\n",
    "\n",
    "def hypothesis(theta, X):\n",
    "    h = np.ones((X.shape[0],1))\n",
    "    for i in range(0,X.shape[0]):\n",
    "        x = np.concatenate((np.ones(1), np.array([X[i]])), axis = 0)\n",
    "        h[i] = float(np.matmul(theta, x))\n",
    "    h = h.reshape(X.shape[0])\n",
    "    return h\n",
    "\n",
    "def SGD(theta, alpha, num_iters, h, X, y):\n",
    "    for i in range(0,num_iters):\n",
    "        theta[0] = theta[0] - (alpha) * (h - y)\n",
    "        theta[1] = theta[1] - (alpha) * ((h - y) * X)\n",
    "        h = theta[1]*X + theta[0]\n",
    "        print(theta)\n",
    "    return theta\n",
    "\n",
    "def sgd_linear_regression(X, y, alpha, num_iters):\n",
    "    # initializing the parameter vector...\n",
    "    theta = np.zeros(2)\n",
    "    # hypothesis calculation....\n",
    "    h = hypothesis(theta, X)    \n",
    "    # returning the optimized parameters by Gradient Descent...\n",
    "    for i in range(0, X.shape[0]):\n",
    "        theta = SGD(theta,alpha,num_iters,h[i],X[i],y[i])\n",
    "    theta = theta.reshape(1, 2)\n",
    "    return theta\n"
   ]
  },
  {
   "cell_type": "code",
   "execution_count": 2,
   "metadata": {},
   "outputs": [
    {
     "name": "stdout",
     "output_type": "stream",
     "text": [
      "(97,) (97,)\n"
     ]
    },
    {
     "data": {
      "text/plain": [
       "<Figure size 640x480 with 1 Axes>"
      ]
     },
     "metadata": {},
     "output_type": "display_data"
    }
   ],
   "source": [
    "data = np.loadtxt('untitled.txt', delimiter=',')\n",
    "X_train = data[:,0] #the feature_set\n",
    "y_train = data[:,1] #the labels\n",
    "print(X_train.shape,y_train.shape)\n",
    "import matplotlib.pyplot as plt\n",
    "plt.scatter(X_train, y_train)\n",
    "plt.xlabel('Population of City in 10,000s')\n",
    "plt.ylabel('Profit in $10,000s')\n",
    "plt.show()"
   ]
  },
  {
   "cell_type": "code",
   "execution_count": 3,
   "metadata": {},
   "outputs": [
    {
     "data": {
      "image/png": "[encoded data removed]",
      "text/plain": [
       "<Figure size 432x288 with 1 Axes>"
      ]
     },
     "metadata": {
      "needs_background": "light"
     },
     "output_type": "display_data"
    }
   ],
   "source": [
    "theta = sgd_linear_regression(X_train, y_train, 0.0001, 100000)\n",
    "import matplotlib.pyplot as plt \n",
    "# getting the predictions...\n",
    "training_predictions = hypothesis(theta, X_train)\n",
    "scatter = plt.scatter(X_train, y_train, label=\"training data\")\n",
    "regression_line = plt.plot(X_train, training_predictions\n",
    "                           , label=\"linear regression\")\n",
    "plt.legend()\n",
    "plt.xlabel('Population of City in 10,000s')\n",
    "plt.ylabel('Profit in $10,000s')\n",
    "plt.show()"
   ]
  },
  {
   "cell_type": "code",
   "execution_count": 4,
   "metadata": {},
   "outputs": [
    {
     "ename": "NameError",
     "evalue": "name 'x' is not defined",
     "output_type": "error",
     "traceback": [
      "\u001b[0;31m---------------------------------------------------------------------------\u001b[0m",
      "\u001b[0;31mNameError\u001b[0m                                 Traceback (most recent call last)",
      "\u001b[0;32m<ipython-input-4-4ab7bd615964>\u001b[0m in \u001b[0;36m<module>\u001b[0;34m\u001b[0m\n\u001b[1;32m      1\u001b[0m \u001b[0;32mimport\u001b[0m \u001b[0mrandom\u001b[0m\u001b[0;34m\u001b[0m\u001b[0;34m\u001b[0m\u001b[0m\n\u001b[0;32m----> 2\u001b[0;31m \u001b[0mprint\u001b[0m\u001b[0;34m(\u001b[0m\u001b[0mlen\u001b[0m\u001b[0;34m(\u001b[0m\u001b[0mx\u001b[0m\u001b[0;34m)\u001b[0m\u001b[0;34m)\u001b[0m\u001b[0;34m\u001b[0m\u001b[0;34m\u001b[0m\u001b[0m\n\u001b[0m\u001b[1;32m      3\u001b[0m \u001b[0mprint\u001b[0m\u001b[0;34m(\u001b[0m\u001b[0mx\u001b[0m\u001b[0;34m)\u001b[0m\u001b[0;34m\u001b[0m\u001b[0;34m\u001b[0m\u001b[0m\n\u001b[1;32m      4\u001b[0m \u001b[0mprint\u001b[0m\u001b[0;34m(\u001b[0m\u001b[0my\u001b[0m\u001b[0;34m)\u001b[0m\u001b[0;34m\u001b[0m\u001b[0;34m\u001b[0m\u001b[0m\n\u001b[1;32m      5\u001b[0m \u001b[0mindex\u001b[0m \u001b[0;34m=\u001b[0m \u001b[0mnp\u001b[0m\u001b[0;34m.\u001b[0m\u001b[0marange\u001b[0m\u001b[0;34m(\u001b[0m\u001b[0;36m0\u001b[0m\u001b[0;34m,\u001b[0m\u001b[0;36m30\u001b[0m\u001b[0;34m)\u001b[0m\u001b[0;34m\u001b[0m\u001b[0;34m\u001b[0m\u001b[0m\n",
      "\u001b[0;31mNameError\u001b[0m: name 'x' is not defined"
     ]
    }
   ],
   "source": [
    "import random\n",
    "print(len(x))\n",
    "print(x)\n",
    "print(y)\n",
    "index = np.arange(0,30)\n",
    "print(index)\n",
    "r = np.random.choice(index,1,False)\n",
    "print(r,x[r],y[r])\n",
    "r = np.random.choice(index,1,False)\n",
    "print(r,x[r],y[r])\n",
    "r = np.random.choice(index,1,False)\n",
    "print(r,x[r],y[r])\n",
    "\n"
   ]
  },
  {
   "cell_type": "code",
   "execution_count": null,
   "metadata": {},
   "outputs": [],
   "source": []
  }
 ],
 "metadata": {
  "kernelspec": {
   "display_name": "Python 3",
   "language": "python",
   "name": "python3"
  },
  "language_info": {
   "codemirror_mode": {
    "name": "ipython",
    "version": 3
   },
   "file_extension": ".py",
   "mimetype": "text/x-python",
   "name": "python",
   "nbconvert_exporter": "python",
   "pygments_lexer": "ipython3",
   "version": "3.7.3"
  }
 },
 "nbformat": 4,
 "nbformat_minor": 2
}
