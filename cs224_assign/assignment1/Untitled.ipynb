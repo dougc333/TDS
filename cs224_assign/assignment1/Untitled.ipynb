{
 "cells": [
  {
   "cell_type": "code",
   "execution_count": 7,
   "metadata": {},
   "outputs": [
    {
     "name": "stdout",
     "output_type": "stream",
     "text": [
      "  % Total    % Received % Xferd  Average Speed   Time    Time     Time  Current\n",
      "                                 Dload  Upload   Total   Spent    Left  Speed\n",
      "100  5262    0  5262    0     0  50788      0 --:--:-- --:--:-- --:--:-- 51087\n",
      "sentiment treebank exists\n",
      "done\n"
     ]
    }
   ],
   "source": [
    "import torch\n",
    "import numpy as np\n",
    "\n",
    "import os\n",
    "from os import path\n",
    "\n",
    "if not path.exists(\"glove.6B.50d.txt.zip\"):\n",
    "    !curl -O http://web.stanford.edu/~jamesh93/tmp/glove.6B.50d.txt.zip\n",
    "else:\n",
    "    print(\"glove vectors downloaded\")\n",
    "if not path.exists(\"stanfordSentimentTreebank.zip\"):\n",
    "    !wget http://nlp.stanford.edu/~socherr/stanfordSentimentTreebank.zip\n",
    "else:\n",
    "    print(\"sentiment treebank exists\")\n",
    "print(\"done\")"
   ]
  },
  {
   "cell_type": "code",
   "execution_count": null,
   "metadata": {},
   "outputs": [],
   "source": []
  }
 ],
 "metadata": {
  "kernelspec": {
   "display_name": "Python 3",
   "language": "python",
   "name": "python3"
  },
  "language_info": {
   "codemirror_mode": {
    "name": "ipython",
    "version": 3
   },
   "file_extension": ".py",
   "mimetype": "text/x-python",
   "name": "python",
   "nbconvert_exporter": "python",
   "pygments_lexer": "ipython3",
   "version": "3.7.3"
  }
 },
 "nbformat": 4,
 "nbformat_minor": 2
}
