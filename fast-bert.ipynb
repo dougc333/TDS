{
 "cells": [
  {
   "cell_type": "code",
   "execution_count": 1,
   "metadata": {},
   "outputs": [
    {
     "name": "stdout",
     "output_type": "stream",
     "text": [
      "Collecting fast-bert\n",
      "  Downloading https://files.pythonhosted.org/packages/68/34/1ba59457a620ebd526059ca2ab46b1025b49fe78f7477efbd0920b301f9a/fast_bert-0.1.2-py3-none-any.whl\n",
      "Requirement already satisfied: fastai in /home/dc/anaconda3/envs/TDS/lib/python3.7/site-packages (from fast-bert) (1.0.52)\n",
      "Collecting pytorch-pretrained-bert (from fast-bert)\n",
      "\u001b[?25l  Downloading https://files.pythonhosted.org/packages/d7/e0/c08d5553b89973d9a240605b9c12404bcf8227590de62bae27acbcfe076b/pytorch_pretrained_bert-0.6.2-py3-none-any.whl (123kB)\n",
      "\u001b[K     |████████████████████████████████| 133kB 5.3MB/s eta 0:00:01\n",
      "\u001b[?25hRequirement already satisfied: nvidia-ml-py3 in /home/dc/anaconda3/envs/TDS/lib/python3.7/site-packages (from fastai->fast-bert) (7.352.0)\n",
      "Requirement already satisfied: pandas in /home/dc/anaconda3/envs/TDS/lib/python3.7/site-packages (from fastai->fast-bert) (0.24.2)\n",
      "Requirement already satisfied: typing in /home/dc/anaconda3/envs/TDS/lib/python3.7/site-packages (from fastai->fast-bert) (3.6.6)\n",
      "Requirement already satisfied: numpy>=1.15 in /home/dc/anaconda3/envs/TDS/lib/python3.7/site-packages (from fastai->fast-bert) (1.16.4)\n",
      "Requirement already satisfied: matplotlib in /home/dc/anaconda3/envs/TDS/lib/python3.7/site-packages (from fastai->fast-bert) (3.1.0)\n",
      "Requirement already satisfied: beautifulsoup4 in /home/dc/anaconda3/envs/TDS/lib/python3.7/site-packages (from fastai->fast-bert) (4.7.1)\n",
      "Requirement already satisfied: pyyaml in /home/dc/anaconda3/envs/TDS/lib/python3.7/site-packages (from fastai->fast-bert) (5.1)\n",
      "Requirement already satisfied: Pillow in /home/dc/anaconda3/envs/TDS/lib/python3.7/site-packages (from fastai->fast-bert) (6.0.0)\n",
      "Requirement already satisfied: spacy>=2.0.18 in /home/dc/anaconda3/envs/TDS/lib/python3.7/site-packages (from fastai->fast-bert) (2.1.4)\n",
      "Requirement already satisfied: requests in /home/dc/anaconda3/envs/TDS/lib/python3.7/site-packages (from fastai->fast-bert) (2.22.0)\n",
      "Requirement already satisfied: fastprogress>=0.1.19 in /home/dc/anaconda3/envs/TDS/lib/python3.7/site-packages (from fastai->fast-bert) (0.1.21)\n",
      "Requirement already satisfied: torchvision in /home/dc/anaconda3/envs/TDS/lib/python3.7/site-packages (from fastai->fast-bert) (0.2.1)\n",
      "Requirement already satisfied: numexpr in /home/dc/anaconda3/envs/TDS/lib/python3.7/site-packages (from fastai->fast-bert) (2.6.9)\n",
      "Requirement already satisfied: bottleneck in /home/dc/anaconda3/envs/TDS/lib/python3.7/site-packages (from fastai->fast-bert) (1.2.1)\n",
      "Requirement already satisfied: scipy in /home/dc/anaconda3/envs/TDS/lib/python3.7/site-packages (from fastai->fast-bert) (1.3.0)\n",
      "Requirement already satisfied: torch>=1.0.0 in /home/dc/anaconda3/envs/TDS/lib/python3.7/site-packages (from fastai->fast-bert) (1.0.0)\n",
      "Requirement already satisfied: packaging in /home/dc/anaconda3/envs/TDS/lib/python3.7/site-packages (from fastai->fast-bert) (19.0)\n",
      "Requirement already satisfied: tqdm in /home/dc/anaconda3/envs/TDS/lib/python3.7/site-packages (from pytorch-pretrained-bert->fast-bert) (4.32.1)\n",
      "Collecting regex (from pytorch-pretrained-bert->fast-bert)\n",
      "\u001b[?25l  Downloading https://files.pythonhosted.org/packages/86/2a/8dda8b5d603cf379dae79929fb0bb2300ba9debe96f92b30b79b7159aa1b/regex-2019.06.05.tar.gz (651kB)\n",
      "\u001b[K     |████████████████████████████████| 655kB 20.6MB/s eta 0:00:01\n",
      "\u001b[?25hCollecting boto3 (from pytorch-pretrained-bert->fast-bert)\n",
      "\u001b[?25l  Downloading https://files.pythonhosted.org/packages/36/cf/ae45d1ca1e4d5aea1e6ec260906ae27ef53185ac986940f23ddee47b5364/boto3-1.9.162-py2.py3-none-any.whl (128kB)\n",
      "\u001b[K     |████████████████████████████████| 133kB 8.3MB/s eta 0:00:01\n",
      "\u001b[?25hRequirement already satisfied: pytz>=2011k in /home/dc/anaconda3/envs/TDS/lib/python3.7/site-packages (from pandas->fastai->fast-bert) (2019.1)\n",
      "Requirement already satisfied: python-dateutil>=2.5.0 in /home/dc/anaconda3/envs/TDS/lib/python3.7/site-packages (from pandas->fastai->fast-bert) (2.8.0)\n",
      "Requirement already satisfied: pyparsing!=2.0.4,!=2.1.2,!=2.1.6,>=2.0.1 in /home/dc/anaconda3/envs/TDS/lib/python3.7/site-packages (from matplotlib->fastai->fast-bert) (2.4.0)\n",
      "Requirement already satisfied: kiwisolver>=1.0.1 in /home/dc/anaconda3/envs/TDS/lib/python3.7/site-packages (from matplotlib->fastai->fast-bert) (1.1.0)\n",
      "Requirement already satisfied: cycler>=0.10 in /home/dc/anaconda3/envs/TDS/lib/python3.7/site-packages (from matplotlib->fastai->fast-bert) (0.10.0)\n",
      "Requirement already satisfied: soupsieve>=1.2 in /home/dc/anaconda3/envs/TDS/lib/python3.7/site-packages (from beautifulsoup4->fastai->fast-bert) (1.9.1)\n",
      "Requirement already satisfied: cymem<2.1.0,>=2.0.2 in /home/dc/anaconda3/envs/TDS/lib/python3.7/site-packages (from spacy>=2.0.18->fastai->fast-bert) (2.0.2)\n",
      "Requirement already satisfied: plac<1.0.0,>=0.9.6 in /home/dc/anaconda3/envs/TDS/lib/python3.7/site-packages (from spacy>=2.0.18->fastai->fast-bert) (0.9.6)\n",
      "Requirement already satisfied: thinc<7.1.0,>=7.0.2 in /home/dc/anaconda3/envs/TDS/lib/python3.7/site-packages (from spacy>=2.0.18->fastai->fast-bert) (7.0.4)\n",
      "Requirement already satisfied: srsly<1.1.0,>=0.0.5 in /home/dc/anaconda3/envs/TDS/lib/python3.7/site-packages (from spacy>=2.0.18->fastai->fast-bert) (0.0.5)\n",
      "Requirement already satisfied: jsonschema<3.1.0,>=2.6.0 in /home/dc/anaconda3/envs/TDS/lib/python3.7/site-packages (from spacy>=2.0.18->fastai->fast-bert) (3.0.1)\n",
      "Requirement already satisfied: blis<0.3.0,>=0.2.2 in /home/dc/anaconda3/envs/TDS/lib/python3.7/site-packages (from spacy>=2.0.18->fastai->fast-bert) (0.2.4)\n",
      "Requirement already satisfied: wasabi<1.1.0,>=0.2.0 in /home/dc/anaconda3/envs/TDS/lib/python3.7/site-packages (from spacy>=2.0.18->fastai->fast-bert) (0.2.2)\n",
      "Requirement already satisfied: murmurhash<1.1.0,>=0.28.0 in /home/dc/anaconda3/envs/TDS/lib/python3.7/site-packages (from spacy>=2.0.18->fastai->fast-bert) (1.0.2)\n",
      "Requirement already satisfied: preshed<2.1.0,>=2.0.1 in /home/dc/anaconda3/envs/TDS/lib/python3.7/site-packages (from spacy>=2.0.18->fastai->fast-bert) (2.0.1)\n",
      "Requirement already satisfied: urllib3!=1.25.0,!=1.25.1,<1.26,>=1.21.1 in /home/dc/anaconda3/envs/TDS/lib/python3.7/site-packages (from requests->fastai->fast-bert) (1.25.2)\n",
      "Requirement already satisfied: chardet<3.1.0,>=3.0.2 in /home/dc/anaconda3/envs/TDS/lib/python3.7/site-packages (from requests->fastai->fast-bert) (3.0.4)\n",
      "Requirement already satisfied: idna<2.9,>=2.5 in /home/dc/anaconda3/envs/TDS/lib/python3.7/site-packages (from requests->fastai->fast-bert) (2.8)\n",
      "Requirement already satisfied: certifi>=2017.4.17 in /home/dc/anaconda3/envs/TDS/lib/python3.7/site-packages (from requests->fastai->fast-bert) (2019.3.9)\n",
      "Requirement already satisfied: six in /home/dc/anaconda3/envs/TDS/lib/python3.7/site-packages (from torchvision->fastai->fast-bert) (1.12.0)\n",
      "Collecting s3transfer<0.3.0,>=0.2.0 (from boto3->pytorch-pretrained-bert->fast-bert)\n",
      "\u001b[?25l  Downloading https://files.pythonhosted.org/packages/16/8a/1fc3dba0c4923c2a76e1ff0d52b305c44606da63f718d14d3231e21c51b0/s3transfer-0.2.1-py2.py3-none-any.whl (70kB)\n",
      "\u001b[K     |████████████████████████████████| 71kB 14.0MB/s eta 0:00:01\n",
      "\u001b[?25hCollecting botocore<1.13.0,>=1.12.162 (from boto3->pytorch-pretrained-bert->fast-bert)\n",
      "\u001b[?25l  Downloading https://files.pythonhosted.org/packages/9c/70/519c9fce0af131989042906d3584f0b105588de211cf6a060ed018c98b10/botocore-1.12.162-py2.py3-none-any.whl (5.5MB)\n",
      "\u001b[K     |████████████████████████████████| 5.5MB 19.3MB/s eta 0:00:01\n",
      "\u001b[?25hCollecting jmespath<1.0.0,>=0.7.1 (from boto3->pytorch-pretrained-bert->fast-bert)\n",
      "  Downloading https://files.pythonhosted.org/packages/83/94/7179c3832a6d45b266ddb2aac329e101367fbdb11f425f13771d27f225bb/jmespath-0.9.4-py2.py3-none-any.whl\n",
      "Requirement already satisfied: setuptools in /home/dc/anaconda3/envs/TDS/lib/python3.7/site-packages (from kiwisolver>=1.0.1->matplotlib->fastai->fast-bert) (41.0.1)\n",
      "Requirement already satisfied: attrs>=17.4.0 in /home/dc/anaconda3/envs/TDS/lib/python3.7/site-packages (from jsonschema<3.1.0,>=2.6.0->spacy>=2.0.18->fastai->fast-bert) (19.1.0)\n",
      "Requirement already satisfied: pyrsistent>=0.14.0 in /home/dc/anaconda3/envs/TDS/lib/python3.7/site-packages (from jsonschema<3.1.0,>=2.6.0->spacy>=2.0.18->fastai->fast-bert) (0.15.2)\n",
      "Collecting docutils>=0.10 (from botocore<1.13.0,>=1.12.162->boto3->pytorch-pretrained-bert->fast-bert)\n"
     ]
    },
    {
     "name": "stdout",
     "output_type": "stream",
     "text": [
      "\u001b[?25l  Downloading https://files.pythonhosted.org/packages/36/fa/08e9e6e0e3cbd1d362c3bbee8d01d0aedb2155c4ac112b19ef3cae8eed8d/docutils-0.14-py3-none-any.whl (543kB)\n",
      "\u001b[K     |████████████████████████████████| 552kB 21.5MB/s eta 0:00:01\n",
      "\u001b[?25hBuilding wheels for collected packages: regex\n",
      "  Building wheel for regex (setup.py) ... \u001b[?25ldone\n",
      "\u001b[?25h  Stored in directory: /home/dc/.cache/pip/wheels/49/35/7c/7faf4dc02cdad88d0388e0f895621a34479e1f17f9e4f4ee12\n",
      "Successfully built regex\n",
      "Installing collected packages: regex, jmespath, docutils, botocore, s3transfer, boto3, pytorch-pretrained-bert, fast-bert\n",
      "Successfully installed boto3-1.9.162 botocore-1.12.162 docutils-0.14 fast-bert-0.1.2 jmespath-0.9.4 pytorch-pretrained-bert-0.6.2 regex-2019.6.5 s3transfer-0.2.1\n"
     ]
    }
   ],
   "source": [
    "#pip install git+https://github.com/kaushaltrivedi/fast-bert.git\n",
    "\n",
    "!pip install fast-bert"
   ]
  },
  {
   "cell_type": "code",
   "execution_count": 4,
   "metadata": {},
   "outputs": [
    {
     "ename": "ModuleNotFoundError",
     "evalue": "No module named 'apex'",
     "output_type": "error",
     "traceback": [
      "\u001b[0;31m---------------------------------------------------------------------------\u001b[0m",
      "\u001b[0;31mModuleNotFoundError\u001b[0m                       Traceback (most recent call last)",
      "\u001b[0;32m<ipython-input-4-8bc9eba15d50>\u001b[0m in \u001b[0;36m<module>\u001b[0;34m\u001b[0m\n\u001b[1;32m     12\u001b[0m \u001b[0;32mimport\u001b[0m \u001b[0mrandom\u001b[0m\u001b[0;34m\u001b[0m\u001b[0;34m\u001b[0m\u001b[0m\n\u001b[1;32m     13\u001b[0m \u001b[0;32mimport\u001b[0m \u001b[0mnumpy\u001b[0m \u001b[0;32mas\u001b[0m \u001b[0mnp\u001b[0m\u001b[0;34m\u001b[0m\u001b[0;34m\u001b[0m\u001b[0m\n\u001b[0;32m---> 14\u001b[0;31m \u001b[0;32mimport\u001b[0m \u001b[0mapex\u001b[0m\u001b[0;34m\u001b[0m\u001b[0;34m\u001b[0m\u001b[0m\n\u001b[0m\u001b[1;32m     15\u001b[0m \u001b[0;32mfrom\u001b[0m \u001b[0msklearn\u001b[0m\u001b[0;34m.\u001b[0m\u001b[0mmodel_selection\u001b[0m \u001b[0;32mimport\u001b[0m \u001b[0mtrain_test_split\u001b[0m\u001b[0;34m\u001b[0m\u001b[0;34m\u001b[0m\u001b[0m\n\u001b[1;32m     16\u001b[0m \u001b[0;34m\u001b[0m\u001b[0m\n",
      "\u001b[0;31mModuleNotFoundError\u001b[0m: No module named 'apex'"
     ]
    }
   ],
   "source": [
    "from pytorch_pretrained_bert.tokenization import BertTokenizer\n",
    "from pytorch_pretrained_bert.modeling import BertForPreTraining, BertConfig, BertForMaskedLM, BertForSequenceClassification\n",
    "from pathlib import Path\n",
    "import torch\n",
    "\n",
    "from fastai.text import Tokenizer, Vocab\n",
    "import pandas as pd\n",
    "import collections\n",
    "import os\n",
    "from tqdm import tqdm, trange\n",
    "import sys\n",
    "import random\n",
    "import numpy as np\n",
    "import apex\n",
    "from sklearn.model_selection import train_test_split\n",
    "\n",
    "import datetime\n",
    "    \n",
    "from torch.utils.data import TensorDataset, DataLoader, RandomSampler, SequentialSampler\n",
    "from torch.utils.data.distributed import DistributedSampler\n",
    "from pytorch_pretrained_bert.optimization import BertAdam\n",
    "\n",
    "from fast_bert.modeling import BertForMultiLabelSequenceClassification\n",
    "from fast_bert.data import BertDataBunch, InputExample, InputFeatures, MultiLabelTextProcessor, convert_examples_to_features\n",
    "from fast_bert.learner import BertLearner\n",
    "from fast_bert.metrics import accuracy_multilabel, accuracy_thresh, fbeta, roc_auc\n",
    "\n",
    "torch.cuda.empty_cache()"
   ]
  },
  {
   "cell_type": "code",
   "execution_count": null,
   "metadata": {},
   "outputs": [],
   "source": []
  }
 ],
 "metadata": {
  "kernelspec": {
   "display_name": "Python 3",
   "language": "python",
   "name": "python3"
  },
  "language_info": {
   "codemirror_mode": {
    "name": "ipython",
    "version": 3
   },
   "file_extension": ".py",
   "mimetype": "text/x-python",
   "name": "python",
   "nbconvert_exporter": "python",
   "pygments_lexer": "ipython3",
   "version": "3.7.3"
  }
 },
 "nbformat": 4,
 "nbformat_minor": 2
}
