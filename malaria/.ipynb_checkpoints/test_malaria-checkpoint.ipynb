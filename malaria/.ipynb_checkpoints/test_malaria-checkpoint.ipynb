{
 "cells": [
  {
   "cell_type": "code",
   "execution_count": null,
   "metadata": {},
   "outputs": [],
   "source": [
    "import numpy as np\n",
    "import cv2\n",
    "import matplotlib.pyplot as plt\n",
    "import os\n",
    "\n",
    "big=True\n",
    "print(os.getcwd())\n",
    "p = os.path.join(os.getcwd(),\"malaria\",\"images\",\"002f20ad-2ace-499c-9335-c9080bc3e6b5.png\")\n",
    "print(type(p))\n",
    "img = cv2.imread(p)\n",
    "print(type(img))\n",
    "print(img.shape)\n",
    "if (big):\n",
    "    cv2.circle(img,(576,1744), 55, (0,255,0), -1)\n",
    "    #cv2.circle(img,(576,1744), 55, (0,255,0), -1)\n",
    "    cv2.imshow('image',img)\n",
    "    cv2.waitKey(0)\n",
    "    cv2.destroyAllWindows()\n",
    "else:\n",
    "    plt.imshow(img)\n",
    "    plt.show()\n"
   ]
  },
  {
   "cell_type": "code",
   "execution_count": 7,
   "metadata": {},
   "outputs": [
    {
     "name": "stdout",
     "output_type": "stream",
     "text": [
      "num test: 120\n",
      "num train: 1208\n",
      "<class 'str'>\n",
      "/images/41be1bd3-0d31-4881-bf1f-3ccdfa21ff12.jpg\n",
      "/Users/dougchang/Downloads/malaria/malaria\n"
     ]
    }
   ],
   "source": [
    "import json\n",
    "import os\n",
    "\n",
    "test = json.load(open(\"malaria/test.json\",\"r\"))\n",
    "train = json.load(open(\"malaria/training.json\",\"r\"))\n",
    "print(\"num test:\",len(test))\n",
    "print(\"num train:\",len(train))\n",
    "num_test=0\n",
    "num_train=0\n",
    "print(type(test[0]['image']['pathname']))\n",
    "print(test[0]['image']['pathname'])\n",
    "\n",
    "p = os.path.join(os.getcwd(),'malaria')\n",
    "print(p)\n",
    "#fh = open(p)\n",
    "#type(fh)"
   ]
  },
  {
   "cell_type": "code",
   "execution_count": null,
   "metadata": {},
   "outputs": [],
   "source": [
    "import os\n",
    "p = os.path.join(os.getcwd(), \"malaria\")\n",
    "print(p)"
   ]
  },
  {
   "cell_type": "code",
   "execution_count": null,
   "metadata": {},
   "outputs": [],
   "source": [
    ",test[0]['image']['pathname']"
   ]
  }
 ],
 "metadata": {
  "kernelspec": {
   "display_name": "Python 3",
   "language": "python",
   "name": "python3"
  }
 },
 "nbformat": 4,
 "nbformat_minor": 2
}
