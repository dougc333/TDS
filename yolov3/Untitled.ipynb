{
 "cells": [
  {
   "cell_type": "code",
   "execution_count": null,
   "metadata": {},
   "outputs": [],
   "source": [
    "#https://blog.paperspace.com/how-to-implement-a-yolo-object-detector-in-pytorch/\n",
    "#redidual blocks, skip connections, upsampling\n",
    "#object detection, bounding box regression, IoU, nonmaximum suppression\n",
    "#YOLO has 75 layers, no pooling only FC w/stride2 to downsample. This prevents pooling loss(max/avg blurs edges)\n",
    "# use 1x1 \n",
    "#B*(5+C) = num entries in feature map. B=num bounding boxes/cell. Each B specilaized for certain type of object,\n",
    "#each B has 5+C attributes for center coordinates,dims, object score, C class confidences for each B. \n",
    "\n",
    "\n",
    "\n",
    "\n"
   ]
  }
 ],
 "metadata": {
  "kernelspec": {
   "display_name": "Python 3",
   "language": "python",
   "name": "python3"
  },
  "language_info": {
   "codemirror_mode": {
    "name": "ipython",
    "version": 3
   },
   "file_extension": ".py",
   "mimetype": "text/x-python",
   "name": "python",
   "nbconvert_exporter": "python",
   "pygments_lexer": "ipython3",
   "version": "3.7.3"
  }
 },
 "nbformat": 4,
 "nbformat_minor": 2
}
