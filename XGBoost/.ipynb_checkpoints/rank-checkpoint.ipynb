{
 "cells": [
  {
   "cell_type": "code",
   "execution_count": null,
   "metadata": {},
   "outputs": [],
   "source": [
    "#https://arxiv.org/pdf/1306.2597.pdf 46 col description\n"
   ]
  },
  {
   "cell_type": "code",
   "execution_count": 19,
   "metadata": {},
   "outputs": [
    {
     "data": {
      "text/plain": [
       "'/Users/dougchang/TDS/XGBoost'"
      ]
     },
     "execution_count": 19,
     "metadata": {},
     "output_type": "execute_result"
    }
   ],
   "source": [
    "#https://github.com/dmlc/xgboost/tree/master/demo/rank from XGBoost github\n",
    "#docs say they need lambda rank but only implemented pairwise rank ??\n",
    "import xgboost as xgb\n",
    "from xgboost import DMatrix\n",
    "from sklearn.datasets import load_svmlight_file\n",
    "import pandas as pd\n",
    "import os\n",
    "os.getcwd()"
   ]
  },
  {
   "cell_type": "code",
   "execution_count": 67,
   "metadata": {},
   "outputs": [
    {
     "name": "stdout",
     "output_type": "stream",
     "text": [
      "num: 1810\n",
      "total: 9630\n",
      "ids: {'2': 587, '1': 1223}\n"
     ]
    }
   ],
   "source": [
    "#missing qid?\n",
    "num=0\n",
    "total=0\n",
    "ids={}\n",
    "with open('rank/mq2008.train','r') as fh: \n",
    "    for row in fh:\n",
    "        #print(row)\n",
    "        total+=1\n",
    "        tok = row.split()\n",
    "        if tok[0].strip()!='0':\n",
    "            #print(row)\n",
    "            if tok[0].strip() in ids:\n",
    "                ids[tok[0].strip()]=ids[tok[0].strip()]+1\n",
    "            else:\n",
    "                ids[tok[0].strip()]=1\n",
    "            num+=1\n",
    "        #else:\n",
    "        #    print('tok[0]:',tok[0])\n",
    "        #print('tok[1]:',tok[1],tok[1].split(':')[1])\n",
    "print('num:',num)\n",
    "print('total:',total)\n",
    "print('ids:',ids)"
   ]
  },
  {
   "cell_type": "code",
   "execution_count": 85,
   "metadata": {},
   "outputs": [
    {
     "name": "stdout",
     "output_type": "stream",
     "text": [
      "num: 1810\n",
      "total: 9630\n",
      "ids: {'2': 587, '1': 1223}\n"
     ]
    }
   ],
   "source": [
    "#missing qid?\n",
    "num=0\n",
    "total=0\n",
    "ids={}\n",
    "with open('rank/mq2008.train','r') as fh: \n",
    "    for row in fh:\n",
    "        #print(row)\n",
    "        total+=1\n",
    "        tok = row.split()\n",
    "        if tok[0].strip()!='0':\n",
    "            #print(row)\n",
    "            if tok[0].strip() in ids:\n",
    "                ids[tok[0].strip()]=ids[tok[0].strip()]+1\n",
    "            else:\n",
    "                ids[tok[0].strip()]=1\n",
    "            num+=1\n",
    "        #else:\n",
    "        #    print('tok[0]:',tok[0])\n",
    "        #print('tok[1]:',tok[1],tok[1].split(':')[1])\n",
    "print('num:',num)\n",
    "print('total:',total)\n",
    "print('ids:',ids)"
   ]
  },
  {
   "cell_type": "code",
   "execution_count": 86,
   "metadata": {},
   "outputs": [
    {
     "name": "stdout",
     "output_type": "stream",
     "text": [
      "<class 'scipy.sparse.csr.csr_matrix'>\n"
     ]
    }
   ],
   "source": [
    "x_train, y_train = load_svmlight_file(\"rank/mq2008.train\")\n",
    "x_valid, y_valid = load_svmlight_file(\"rank/mq2008.vali\")\n",
    "x_test, y_test = load_svmlight_file(\"rank/mq2008.test\")\n",
    "\n",
    "print(type(x_train))\n",
    "\n",
    "group_train = []\n",
    "with open(\"rank/mq2008.train.group\", \"r\") as f:\n",
    "    data = f.readlines()\n",
    "    for line in data:\n",
    "        group_train.append(int(line.split(\"\\n\")[0]))\n",
    "\n",
    "group_valid = []\n",
    "with open(\"rank/mq2008.vali.group\", \"r\") as f:\n",
    "    data = f.readlines()\n",
    "    for line in data:\n",
    "        group_valid.append(int(line.split(\"\\n\")[0]))\n",
    "\n",
    "group_test = []\n",
    "with open(\"rank/mq2008.test.group\", \"r\") as f:\n",
    "    data = f.readlines()\n",
    "    for line in data:\n",
    "        group_test.append(int(line.split(\"\\n\")[0]))\n"
   ]
  },
  {
   "cell_type": "code",
   "execution_count": 87,
   "metadata": {},
   "outputs": [
    {
     "name": "stdout",
     "output_type": "stream",
     "text": [
      "9630\n"
     ]
    }
   ],
   "source": [
    "total=0\n",
    "with open('rank/mq2008.train.group', 'r') as fh:\n",
    "    n = fh.readlines()\n",
    "    for line in n:\n",
    "        total+=int(line.strip())\n",
    "print(total)"
   ]
  },
  {
   "cell_type": "code",
   "execution_count": 88,
   "metadata": {},
   "outputs": [
    {
     "name": "stdout",
     "output_type": "stream",
     "text": [
      "[0]\tvalidation-map:0.70901\n",
      "[1]\tvalidation-map:0.731518\n",
      "[2]\tvalidation-map:0.739957\n",
      "[3]\tvalidation-map:0.743337\n"
     ]
    }
   ],
   "source": [
    "train_dmatrix = DMatrix(x_train, y_train)\n",
    "valid_dmatrix = DMatrix(x_valid, y_valid)\n",
    "test_dmatrix = DMatrix(x_test)\n",
    "\n",
    "train_dmatrix.set_group(group_train)\n",
    "valid_dmatrix.set_group(group_valid)\n",
    "\n",
    "\n",
    "\n",
    "params = {'objective': 'rank:pairwise', 'eta': 0.1, 'gamma': 1.0,\n",
    "               'min_child_weight': 0.1, 'max_depth': 6}\n",
    "xgb_model = xgb.train(params, train_dmatrix, num_boost_round=4,\n",
    "                           evals=[(valid_dmatrix, 'validation')])\n",
    "pred = xgb_model.predict(test_dmatrix)"
   ]
  },
  {
   "cell_type": "code",
   "execution_count": 92,
   "metadata": {},
   "outputs": [
    {
     "name": "stdout",
     "output_type": "stream",
     "text": [
      "(2874,) (2874,)\n",
      "SpearmanrResult(correlation=0.36215681044800113, pvalue=8.555306021538603e-90)\n",
      "[0.6176246  0.2126602  0.6080335  ... 0.46931526 0.7187472  0.28511757]\n"
     ]
    }
   ],
   "source": [
    "from scipy.stats import spearmanr\n",
    "print(y_test.shape,pred.shape)\n",
    "print(spearmanr(y_test, pred))\n",
    "\n",
    "print(pred)"
   ]
  },
  {
   "cell_type": "code",
   "execution_count": 99,
   "metadata": {},
   "outputs": [
    {
     "name": "stdout",
     "output_type": "stream",
     "text": [
      "SpearmanrResult(correlation=0.44876790183974274, pvalue=0.0)\n"
     ]
    }
   ],
   "source": [
    "params = {'objective': 'rank:pairwise', 'learning_rate': 0.1,\n",
    "          'gamma': 1.0, 'min_child_weight': 0.1,\n",
    "          'max_depth': 6, 'n_estimators': 4}\n",
    "model = xgb.sklearn.XGBRanker(**params)\n",
    "model.fit(x_train, y_train, group_train,\n",
    "          eval_set=[(x_valid, y_valid)], eval_group=[group_valid])\n",
    "pred = model.predict(x_train)\n",
    "#pred_test = model.predict(y_test)\n",
    "#print(spearmanr(y_test, pred_test))\n",
    "print(spearmanr(y_train, pred))\n",
    "\n"
   ]
  },
  {
   "cell_type": "code",
   "execution_count": 96,
   "metadata": {},
   "outputs": [
    {
     "name": "stdout",
     "output_type": "stream",
     "text": [
      "[1]\tvalid_0's ndcg@1: 0.556263\tvalid_0's ndcg@3: 0.635254\n",
      "Training until validation scores don't improve for 20 rounds.\n",
      "[2]\tvalid_0's ndcg@1: 0.571125\tvalid_0's ndcg@3: 0.66308\n",
      "[3]\tvalid_0's ndcg@1: 0.617834\tvalid_0's ndcg@3: 0.675826\n",
      "[4]\tvalid_0's ndcg@1: 0.622081\tvalid_0's ndcg@3: 0.682879\n",
      "[5]\tvalid_0's ndcg@1: 0.632696\tvalid_0's ndcg@3: 0.6769\n",
      "[6]\tvalid_0's ndcg@1: 0.624204\tvalid_0's ndcg@3: 0.677868\n",
      "[7]\tvalid_0's ndcg@1: 0.613588\tvalid_0's ndcg@3: 0.671651\n",
      "[8]\tvalid_0's ndcg@1: 0.613588\tvalid_0's ndcg@3: 0.670299\n",
      "[9]\tvalid_0's ndcg@1: 0.626327\tvalid_0's ndcg@3: 0.675637\n",
      "[10]\tvalid_0's ndcg@1: 0.62845\tvalid_0's ndcg@3: 0.680989\n",
      "[11]\tvalid_0's ndcg@1: 0.62845\tvalid_0's ndcg@3: 0.679431\n",
      "[12]\tvalid_0's ndcg@1: 0.626327\tvalid_0's ndcg@3: 0.684499\n",
      "[13]\tvalid_0's ndcg@1: 0.641189\tvalid_0's ndcg@3: 0.688833\n",
      "[14]\tvalid_0's ndcg@1: 0.619958\tvalid_0's ndcg@3: 0.688054\n",
      "[15]\tvalid_0's ndcg@1: 0.619958\tvalid_0's ndcg@3: 0.686626\n",
      "[16]\tvalid_0's ndcg@1: 0.626327\tvalid_0's ndcg@3: 0.691959\n",
      "[17]\tvalid_0's ndcg@1: 0.626327\tvalid_0's ndcg@3: 0.686887\n",
      "[18]\tvalid_0's ndcg@1: 0.626327\tvalid_0's ndcg@3: 0.688\n",
      "[19]\tvalid_0's ndcg@1: 0.626327\tvalid_0's ndcg@3: 0.688049\n",
      "[20]\tvalid_0's ndcg@1: 0.626327\tvalid_0's ndcg@3: 0.690434\n",
      "[21]\tvalid_0's ndcg@1: 0.626327\tvalid_0's ndcg@3: 0.694799\n",
      "[22]\tvalid_0's ndcg@1: 0.62845\tvalid_0's ndcg@3: 0.695588\n",
      "[23]\tvalid_0's ndcg@1: 0.624204\tvalid_0's ndcg@3: 0.694733\n",
      "[24]\tvalid_0's ndcg@1: 0.619958\tvalid_0's ndcg@3: 0.693001\n",
      "[25]\tvalid_0's ndcg@1: 0.617834\tvalid_0's ndcg@3: 0.690167\n",
      "[26]\tvalid_0's ndcg@1: 0.630573\tvalid_0's ndcg@3: 0.692966\n",
      "[27]\tvalid_0's ndcg@1: 0.630573\tvalid_0's ndcg@3: 0.695363\n",
      "[28]\tvalid_0's ndcg@1: 0.62845\tvalid_0's ndcg@3: 0.692396\n",
      "[29]\tvalid_0's ndcg@1: 0.62845\tvalid_0's ndcg@3: 0.692314\n",
      "[30]\tvalid_0's ndcg@1: 0.62845\tvalid_0's ndcg@3: 0.687503\n",
      "[31]\tvalid_0's ndcg@1: 0.62845\tvalid_0's ndcg@3: 0.683282\n",
      "[32]\tvalid_0's ndcg@1: 0.62845\tvalid_0's ndcg@3: 0.683282\n",
      "[33]\tvalid_0's ndcg@1: 0.62845\tvalid_0's ndcg@3: 0.686777\n",
      "Early stopping, best iteration is:\n",
      "[13]\tvalid_0's ndcg@1: 0.641189\tvalid_0's ndcg@3: 0.688833\n"
     ]
    },
    {
     "data": {
      "text/plain": [
       "LGBMRanker(boosting_type='gbdt', class_weight=None, colsample_bytree=1.0,\n",
       "           importance_type='split', learning_rate=0.1, max_depth=-1,\n",
       "           min_child_samples=20, min_child_weight=0.001, min_split_gain=0.0,\n",
       "           n_estimators=100, n_jobs=-1, num_leaves=31, objective=None,\n",
       "           random_state=None, reg_alpha=0.0, reg_lambda=0.0, silent=True,\n",
       "           subsample=1.0, subsample_for_bin=200000, subsample_freq=0)"
      ]
     },
     "execution_count": 96,
     "metadata": {},
     "output_type": "execute_result"
    }
   ],
   "source": [
    "import lightgbm as lgb\n",
    "\n",
    "gbm = lgb.LGBMRanker()\n",
    "gbm.fit(x_train, y_train, group=group_train, eval_set=[(x_valid, y_valid)],\n",
    "eval_group=[group_valid], eval_at=[1, 3], early_stopping_rounds=20, verbose=True,\n",
    "callbacks=[lgb.reset_parameter(learning_rate=lambda x: 0.95 ** x * 0.1)])"
   ]
  },
  {
   "cell_type": "code",
   "execution_count": 97,
   "metadata": {},
   "outputs": [
    {
     "data": {
      "text/plain": [
       "SpearmanrResult(correlation=0.41298395158905504, pvalue=0.0)"
      ]
     },
     "execution_count": 97,
     "metadata": {},
     "output_type": "execute_result"
    }
   ],
   "source": [
    "preds_train = gbm.predict(x_train)\n",
    "spearmanr(y_train, preds_train)"
   ]
  },
  {
   "cell_type": "code",
   "execution_count": 105,
   "metadata": {},
   "outputs": [
    {
     "name": "stdout",
     "output_type": "stream",
     "text": [
      "SpearmanrResult(correlation=1.0, pvalue=0.0)\n",
      "SpearmanrResult(correlation=-1.0, pvalue=0.0)\n",
      "SpearmanrResult(correlation=0.5, pvalue=0.6666666666666667)\n"
     ]
    }
   ],
   "source": [
    "print(spearmanr([1,2,3],[5,7,9])) #both increasing\n",
    "\n",
    "print(spearmanr([1,2,3],[7,5,3])) #one increasing, one decreasing\n",
    "print(spearmanr([10,8,4],[11,3,6])) #both decreasing"
   ]
  },
  {
   "cell_type": "code",
   "execution_count": 107,
   "metadata": {},
   "outputs": [
    {
     "name": "stdout",
     "output_type": "stream",
     "text": [
      "num: 471\n",
      "num: 9630\n"
     ]
    }
   ],
   "source": [
    "gr=[]\n",
    "num=0\n",
    "with open ('rank/mq2008.train.group','r') as fh:\n",
    "    lines = fh.readlines()\n",
    "    for l in lines:\n",
    "        gr.append(int(l.strip()))\n",
    "        num+=1\n",
    "print('num_groups:',num)\n",
    "data=[]\n",
    "num=0\n",
    "with open('rank/train.txt','r') as fh:\n",
    "    lines = fh.readlines()\n",
    "    for line in lines:\n",
    "        data.append(lines)\n",
    "        num+=1\n",
    "print('num:',num)"
   ]
  },
  {
   "cell_type": "code",
   "execution_count": null,
   "metadata": {},
   "outputs": [],
   "source": []
  }
 ],
 "metadata": {
  "kernelspec": {
   "display_name": "Python 3",
   "language": "python",
   "name": "python3"
  },
  "language_info": {
   "codemirror_mode": {
    "name": "ipython",
    "version": 3
   },
   "file_extension": ".py",
   "mimetype": "text/x-python",
   "name": "python",
   "nbconvert_exporter": "python",
   "pygments_lexer": "ipython3",
   "version": "3.7.3"
  }
 },
 "nbformat": 4,
 "nbformat_minor": 2
}
